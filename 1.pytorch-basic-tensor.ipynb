{
 "cells": [
  {
   "cell_type": "markdown",
   "id": "emotional-glass",
   "metadata": {},
   "source": [
    "# Pytorch Basic Tensor & Cuda\n",
    "---\n",
    "by Pranpaveen Lay."
   ]
  },
  {
   "cell_type": "code",
   "execution_count": 1,
   "id": "architectural-chair",
   "metadata": {},
   "outputs": [],
   "source": [
    "import torch"
   ]
  },
  {
   "cell_type": "code",
   "execution_count": 2,
   "id": "temporal-means",
   "metadata": {},
   "outputs": [
    {
     "data": {
      "text/plain": [
       "'1.8.0'"
      ]
     },
     "execution_count": 2,
     "metadata": {},
     "output_type": "execute_result"
    }
   ],
   "source": [
    "torch.__version__"
   ]
  },
  {
   "cell_type": "code",
   "execution_count": 3,
   "id": "bulgarian-corrections",
   "metadata": {},
   "outputs": [
    {
     "data": {
      "text/plain": [
       "True"
      ]
     },
     "execution_count": 3,
     "metadata": {},
     "output_type": "execute_result"
    }
   ],
   "source": [
    "torch.cuda.is_available()"
   ]
  },
  {
   "cell_type": "markdown",
   "id": "close-system",
   "metadata": {},
   "source": [
    "# Tensor\n",
    "- multidimension array"
   ]
  },
  {
   "cell_type": "code",
   "execution_count": 4,
   "id": "binding-appraisal",
   "metadata": {},
   "outputs": [
    {
     "data": {
      "text/plain": [
       "tensor(2)"
      ]
     },
     "execution_count": 4,
     "metadata": {},
     "output_type": "execute_result"
    }
   ],
   "source": [
    "# 0d SCALAR\n",
    "t0 = torch.tensor(2)\n",
    "t0"
   ]
  },
  {
   "cell_type": "code",
   "execution_count": 14,
   "id": "immune-belle",
   "metadata": {},
   "outputs": [
    {
     "data": {
      "text/plain": [
       "torch.Size([])"
      ]
     },
     "execution_count": 14,
     "metadata": {},
     "output_type": "execute_result"
    }
   ],
   "source": [
    "t0.shape"
   ]
  },
  {
   "cell_type": "code",
   "execution_count": 5,
   "id": "answering-maria",
   "metadata": {},
   "outputs": [
    {
     "data": {
      "text/plain": [
       "tensor([1, 2, 3])"
      ]
     },
     "execution_count": 5,
     "metadata": {},
     "output_type": "execute_result"
    }
   ],
   "source": [
    "# 1d VECTOR\n",
    "t1 = torch.tensor([1,2,3])\n",
    "t1"
   ]
  },
  {
   "cell_type": "code",
   "execution_count": 13,
   "id": "sudden-shore",
   "metadata": {},
   "outputs": [
    {
     "data": {
      "text/plain": [
       "torch.Size([3])"
      ]
     },
     "execution_count": 13,
     "metadata": {},
     "output_type": "execute_result"
    }
   ],
   "source": [
    "t1.shape"
   ]
  },
  {
   "cell_type": "code",
   "execution_count": 7,
   "id": "rubber-detection",
   "metadata": {},
   "outputs": [
    {
     "data": {
      "text/plain": [
       "tensor([[1, 2, 3],\n",
       "        [4, 5, 6],\n",
       "        [7, 8, 9]])"
      ]
     },
     "execution_count": 7,
     "metadata": {},
     "output_type": "execute_result"
    }
   ],
   "source": [
    "# 2d MATRIX\n",
    "t2 = torch.tensor([[1,2,3],\n",
    "                 [4,5,6],\n",
    "                 [7,8,9]])\n",
    "t2"
   ]
  },
  {
   "cell_type": "code",
   "execution_count": 12,
   "id": "suspected-subscriber",
   "metadata": {},
   "outputs": [
    {
     "data": {
      "text/plain": [
       "torch.Size([3, 3])"
      ]
     },
     "execution_count": 12,
     "metadata": {},
     "output_type": "execute_result"
    }
   ],
   "source": [
    "t2.shape"
   ]
  },
  {
   "cell_type": "code",
   "execution_count": 10,
   "id": "joint-provision",
   "metadata": {},
   "outputs": [
    {
     "data": {
      "text/plain": [
       "tensor([[[ 1,  2,  3],\n",
       "         [ 4,  5,  6]],\n",
       "\n",
       "        [[ 7,  8,  9],\n",
       "         [10, 11, 12]]])"
      ]
     },
     "execution_count": 10,
     "metadata": {},
     "output_type": "execute_result"
    }
   ],
   "source": [
    "# 3d array\n",
    "\n",
    "t3 = torch.tensor([[[1,2,3],\n",
    "                    [4,5,6]],\n",
    "                   \n",
    "                   [[7,8,9],\n",
    "                    [10,11,12]]])\n",
    "t3"
   ]
  },
  {
   "cell_type": "code",
   "execution_count": 11,
   "id": "precise-backing",
   "metadata": {},
   "outputs": [
    {
     "data": {
      "text/plain": [
       "torch.Size([2, 2, 3])"
      ]
     },
     "execution_count": 11,
     "metadata": {},
     "output_type": "execute_result"
    }
   ],
   "source": [
    "t3.shape"
   ]
  },
  {
   "cell_type": "markdown",
   "id": "legitimate-carbon",
   "metadata": {},
   "source": [
    "numpy like method"
   ]
  },
  {
   "cell_type": "code",
   "execution_count": 17,
   "id": "metropolitan-ultimate",
   "metadata": {},
   "outputs": [
    {
     "data": {
      "text/plain": [
       "tensor([[1., 1.],\n",
       "        [1., 1.],\n",
       "        [1., 1.]])"
      ]
     },
     "execution_count": 17,
     "metadata": {},
     "output_type": "execute_result"
    }
   ],
   "source": [
    "a = torch.ones(3,2)\n",
    "a"
   ]
  },
  {
   "cell_type": "code",
   "execution_count": 18,
   "id": "dramatic-international",
   "metadata": {},
   "outputs": [
    {
     "data": {
      "text/plain": [
       "tensor([[0., 0.],\n",
       "        [0., 0.]])"
      ]
     },
     "execution_count": 18,
     "metadata": {},
     "output_type": "execute_result"
    }
   ],
   "source": [
    "b = torch.zeros(2,2)\n",
    "b"
   ]
  },
  {
   "cell_type": "code",
   "execution_count": 23,
   "id": "motivated-replacement",
   "metadata": {},
   "outputs": [
    {
     "data": {
      "text/plain": [
       "tensor([[0.1147, 0.0107, 0.4205],\n",
       "        [0.7965, 0.9811, 0.4782],\n",
       "        [0.2475, 0.5426, 0.4526]])"
      ]
     },
     "execution_count": 23,
     "metadata": {},
     "output_type": "execute_result"
    }
   ],
   "source": [
    "c = torch.rand(3,3)\n",
    "c"
   ]
  },
  {
   "cell_type": "code",
   "execution_count": 24,
   "id": "excessive-theater",
   "metadata": {},
   "outputs": [
    {
     "data": {
      "text/plain": [
       "tensor([0.1147, 0.7965, 0.2475])"
      ]
     },
     "execution_count": 24,
     "metadata": {},
     "output_type": "execute_result"
    }
   ],
   "source": [
    "c[:,0]"
   ]
  },
  {
   "cell_type": "code",
   "execution_count": 25,
   "id": "little-hierarchy",
   "metadata": {},
   "outputs": [
    {
     "data": {
      "text/plain": [
       "tensor([0.1147, 0.0107, 0.4205])"
      ]
     },
     "execution_count": 25,
     "metadata": {},
     "output_type": "execute_result"
    }
   ],
   "source": [
    "c[0,:]"
   ]
  },
  {
   "cell_type": "code",
   "execution_count": 27,
   "id": "purple-found",
   "metadata": {},
   "outputs": [
    {
     "data": {
      "text/plain": [
       "torch.Size([3, 3])"
      ]
     },
     "execution_count": 27,
     "metadata": {},
     "output_type": "execute_result"
    }
   ],
   "source": [
    "c.shape"
   ]
  },
  {
   "cell_type": "code",
   "execution_count": 49,
   "id": "welcome-pastor",
   "metadata": {},
   "outputs": [
    {
     "data": {
      "text/plain": [
       "tensor([[0.8468, 0.2820],\n",
       "        [0.6826, 0.5900],\n",
       "        [0.8298, 0.5623]], names=('x', 'y'))"
      ]
     },
     "execution_count": 49,
     "metadata": {},
     "output_type": "execute_result"
    }
   ],
   "source": [
    "d = torch.rand(3,2,names=['x','y'])\n",
    "d"
   ]
  },
  {
   "cell_type": "code",
   "execution_count": 50,
   "id": "vanilla-container",
   "metadata": {},
   "outputs": [
    {
     "data": {
      "text/plain": [
       "(torch.Size([3, 2]), ('x', 'y'))"
      ]
     },
     "execution_count": 50,
     "metadata": {},
     "output_type": "execute_result"
    }
   ],
   "source": [
    "d.shape,d.names"
   ]
  },
  {
   "cell_type": "markdown",
   "id": "tough-wright",
   "metadata": {},
   "source": [
    "## Data Type"
   ]
  },
  {
   "cell_type": "code",
   "execution_count": 51,
   "id": "signal-belfast",
   "metadata": {},
   "outputs": [
    {
     "data": {
      "text/plain": [
       "'torch.FloatTensor'"
      ]
     },
     "execution_count": 51,
     "metadata": {},
     "output_type": "execute_result"
    }
   ],
   "source": [
    "d.type()"
   ]
  },
  {
   "cell_type": "code",
   "execution_count": 58,
   "id": "bacterial-commercial",
   "metadata": {},
   "outputs": [
    {
     "data": {
      "text/plain": [
       "tensor([[0., 0.],\n",
       "        [0., 0.],\n",
       "        [0., 0.]], dtype=torch.float64, names=('x', 'y'))"
      ]
     },
     "execution_count": 58,
     "metadata": {},
     "output_type": "execute_result"
    }
   ],
   "source": [
    "d = d.to(torch.double)\n",
    "d"
   ]
  },
  {
   "cell_type": "code",
   "execution_count": 59,
   "id": "several-abortion",
   "metadata": {},
   "outputs": [
    {
     "data": {
      "text/plain": [
       "'torch.DoubleTensor'"
      ]
     },
     "execution_count": 59,
     "metadata": {},
     "output_type": "execute_result"
    }
   ],
   "source": [
    "d.type()"
   ]
  },
  {
   "cell_type": "code",
   "execution_count": 60,
   "id": "controlled-prisoner",
   "metadata": {},
   "outputs": [
    {
     "data": {
      "text/plain": [
       "tensor([[0.9312, 0.3682],\n",
       "        [0.8921, 0.0781],\n",
       "        [0.7368, 0.2925]], dtype=torch.float16)"
      ]
     },
     "execution_count": 60,
     "metadata": {},
     "output_type": "execute_result"
    }
   ],
   "source": [
    "e = torch.rand(3,2,dtype=torch.float16)\n",
    "e"
   ]
  },
  {
   "cell_type": "code",
   "execution_count": 61,
   "id": "north-shopping",
   "metadata": {},
   "outputs": [
    {
     "data": {
      "text/plain": [
       "'torch.HalfTensor'"
      ]
     },
     "execution_count": 61,
     "metadata": {},
     "output_type": "execute_result"
    }
   ],
   "source": [
    "e.type()"
   ]
  },
  {
   "cell_type": "code",
   "execution_count": null,
   "id": "composed-workshop",
   "metadata": {},
   "outputs": [],
   "source": []
  },
  {
   "cell_type": "markdown",
   "id": "critical-thesis",
   "metadata": {},
   "source": [
    "# Tensor with GPU (CUDA)"
   ]
  },
  {
   "cell_type": "code",
   "execution_count": 128,
   "id": "recovered-comedy",
   "metadata": {},
   "outputs": [
    {
     "data": {
      "text/plain": [
       "True"
      ]
     },
     "execution_count": 128,
     "metadata": {},
     "output_type": "execute_result"
    }
   ],
   "source": [
    "torch.cuda.is_available()"
   ]
  },
  {
   "cell_type": "code",
   "execution_count": 102,
   "id": "prime-cologne",
   "metadata": {},
   "outputs": [
    {
     "name": "stdout",
     "output_type": "stream",
     "text": [
      "\n",
      "==============NVSMI LOG==============\n",
      "\n",
      "Timestamp                                 : Tue Jan 11 16:57:27 2022\n",
      "Driver Version                            : 472.56\n",
      "CUDA Version                              : 11.4\n",
      "\n",
      "Attached GPUs                             : 1\n",
      "GPU 00000000:01:00.0\n",
      "    FB Memory Usage\n",
      "        Total                             : 6144 MiB\n",
      "        Used                              : 1459 MiB\n",
      "        Free                              : 4685 MiB\n",
      "    BAR1 Memory Usage\n",
      "        Total                             : 8192 MiB\n",
      "        Used                              : 1 MiB\n",
      "        Free                              : 8191 MiB\n",
      "\n"
     ]
    }
   ],
   "source": [
    "!nvidia-smi -q -d MEMORY"
   ]
  },
  {
   "cell_type": "code",
   "execution_count": 104,
   "id": "absent-collector",
   "metadata": {},
   "outputs": [
    {
     "data": {
      "text/plain": [
       "tensor([[0.3500, 0.7205, 0.9091],\n",
       "        [0.6437, 0.9298, 0.1852],\n",
       "        [0.8199, 0.1564, 0.4672]])"
      ]
     },
     "execution_count": 104,
     "metadata": {},
     "output_type": "execute_result"
    }
   ],
   "source": [
    "t_cpu = torch.rand(3,3)\n",
    "t_cpu"
   ]
  },
  {
   "cell_type": "code",
   "execution_count": 105,
   "id": "optimum-amplifier",
   "metadata": {},
   "outputs": [],
   "source": [
    "t_gpu = t_cpu.cuda()"
   ]
  },
  {
   "cell_type": "code",
   "execution_count": 107,
   "id": "vertical-republic",
   "metadata": {},
   "outputs": [
    {
     "data": {
      "text/plain": [
       "tensor([[0.3500, 0.7205, 0.9091],\n",
       "        [0.6437, 0.9298, 0.1852],\n",
       "        [0.8199, 0.1564, 0.4672]], device='cuda:0')"
      ]
     },
     "execution_count": 107,
     "metadata": {},
     "output_type": "execute_result"
    }
   ],
   "source": [
    "t_gpu"
   ]
  },
  {
   "cell_type": "code",
   "execution_count": 114,
   "id": "personal-parallel",
   "metadata": {},
   "outputs": [
    {
     "data": {
      "text/plain": [
       "tensor([[0.3500, 0.7205, 0.9091],\n",
       "        [0.6437, 0.9298, 0.1852],\n",
       "        [0.8199, 0.1564, 0.4672]], device='cuda:0')"
      ]
     },
     "execution_count": 114,
     "metadata": {},
     "output_type": "execute_result"
    }
   ],
   "source": [
    "t_cpu.to('cuda')"
   ]
  },
  {
   "cell_type": "code",
   "execution_count": 115,
   "id": "adolescent-density",
   "metadata": {},
   "outputs": [
    {
     "data": {
      "text/plain": [
       "tensor([[0.3500, 0.7205, 0.9091],\n",
       "        [0.6437, 0.9298, 0.1852],\n",
       "        [0.8199, 0.1564, 0.4672]])"
      ]
     },
     "execution_count": 115,
     "metadata": {},
     "output_type": "execute_result"
    }
   ],
   "source": [
    "t_gpu.cpu()"
   ]
  },
  {
   "cell_type": "code",
   "execution_count": 116,
   "id": "sophisticated-observer",
   "metadata": {},
   "outputs": [
    {
     "name": "stdout",
     "output_type": "stream",
     "text": [
      "\n",
      "==============NVSMI LOG==============\n",
      "\n",
      "Timestamp                                 : Tue Jan 11 16:59:50 2022\n",
      "Driver Version                            : 472.56\n",
      "CUDA Version                              : 11.4\n",
      "\n",
      "Attached GPUs                             : 1\n",
      "GPU 00000000:01:00.0\n",
      "    FB Memory Usage\n",
      "        Total                             : 6144 MiB\n",
      "        Used                              : 2007 MiB\n",
      "        Free                              : 4137 MiB\n",
      "    BAR1 Memory Usage\n",
      "        Total                             : 8192 MiB\n",
      "        Used                              : 1 MiB\n",
      "        Free                              : 8191 MiB\n",
      "\n"
     ]
    }
   ],
   "source": [
    "!nvidia-smi -q -d MEMORY"
   ]
  },
  {
   "cell_type": "code",
   "execution_count": 120,
   "id": "naughty-agriculture",
   "metadata": {},
   "outputs": [],
   "source": [
    "a = torch.rand(255,255,device='cuda')"
   ]
  },
  {
   "cell_type": "code",
   "execution_count": 121,
   "id": "damaged-fault",
   "metadata": {},
   "outputs": [
    {
     "data": {
      "text/plain": [
       "tensor([[0.4671, 0.1293, 0.5869,  ..., 0.6189, 0.1071, 0.6067],\n",
       "        [0.8836, 0.7016, 0.9172,  ..., 0.8073, 0.7738, 0.2586],\n",
       "        [0.1593, 0.4490, 0.1228,  ..., 0.1260, 0.1936, 0.6967],\n",
       "        ...,\n",
       "        [0.8343, 0.3579, 0.1950,  ..., 0.9405, 0.7871, 0.5577],\n",
       "        [0.5796, 0.5153, 0.9896,  ..., 0.1911, 0.0829, 0.6288],\n",
       "        [0.7541, 0.5192, 0.9094,  ..., 0.5090, 0.7381, 0.9705]],\n",
       "       device='cuda:0')"
      ]
     },
     "execution_count": 121,
     "metadata": {},
     "output_type": "execute_result"
    }
   ],
   "source": [
    "a"
   ]
  },
  {
   "cell_type": "code",
   "execution_count": 123,
   "id": "synthetic-responsibility",
   "metadata": {},
   "outputs": [
    {
     "name": "stdout",
     "output_type": "stream",
     "text": [
      "\n",
      "==============NVSMI LOG==============\n",
      "\n",
      "Timestamp                                 : Tue Jan 11 17:00:54 2022\n",
      "Driver Version                            : 472.56\n",
      "CUDA Version                              : 11.4\n",
      "\n",
      "Attached GPUs                             : 1\n",
      "GPU 00000000:01:00.0\n",
      "    FB Memory Usage\n",
      "        Total                             : 6144 MiB\n",
      "        Used                              : 2027 MiB\n",
      "        Free                              : 4117 MiB\n",
      "    BAR1 Memory Usage\n",
      "        Total                             : 8192 MiB\n",
      "        Used                              : 1 MiB\n",
      "        Free                              : 8191 MiB\n",
      "\n"
     ]
    }
   ],
   "source": [
    "!nvidia-smi -q -d MEMORY"
   ]
  },
  {
   "cell_type": "code",
   "execution_count": 124,
   "id": "charitable-review",
   "metadata": {},
   "outputs": [],
   "source": [
    "b = torch.rand(255,255)"
   ]
  },
  {
   "cell_type": "code",
   "execution_count": 125,
   "id": "independent-oklahoma",
   "metadata": {},
   "outputs": [
    {
     "ename": "RuntimeError",
     "evalue": "Expected all tensors to be on the same device, but found at least two devices, cuda:0 and cpu!",
     "output_type": "error",
     "traceback": [
      "\u001b[1;31m---------------------------------------------------------------------------\u001b[0m",
      "\u001b[1;31mRuntimeError\u001b[0m                              Traceback (most recent call last)",
      "\u001b[1;32m<ipython-input-125-ca730b97bf8a>\u001b[0m in \u001b[0;36m<module>\u001b[1;34m\u001b[0m\n\u001b[1;32m----> 1\u001b[1;33m \u001b[0ma\u001b[0m\u001b[1;33m+\u001b[0m\u001b[0mb\u001b[0m\u001b[1;33m\u001b[0m\u001b[1;33m\u001b[0m\u001b[0m\n\u001b[0m",
      "\u001b[1;31mRuntimeError\u001b[0m: Expected all tensors to be on the same device, but found at least two devices, cuda:0 and cpu!"
     ]
    }
   ],
   "source": [
    "a+b"
   ]
  },
  {
   "cell_type": "code",
   "execution_count": 126,
   "id": "focal-major",
   "metadata": {},
   "outputs": [
    {
     "data": {
      "text/plain": [
       "tensor([[1.2349, 0.7295, 0.6815,  ..., 1.5631, 0.8300, 1.0523],\n",
       "        [0.9990, 1.3701, 1.5639,  ..., 1.0784, 1.4541, 0.8637],\n",
       "        [1.0398, 1.2898, 0.6565,  ..., 0.3882, 0.2094, 0.8458],\n",
       "        ...,\n",
       "        [0.9306, 0.5657, 0.2145,  ..., 1.8956, 1.7528, 0.7059],\n",
       "        [0.7385, 0.9536, 1.6418,  ..., 0.9217, 0.6803, 1.2020],\n",
       "        [1.2648, 0.5691, 1.0409,  ..., 0.7158, 1.7009, 1.8150]],\n",
       "       device='cuda:0')"
      ]
     },
     "execution_count": 126,
     "metadata": {},
     "output_type": "execute_result"
    }
   ],
   "source": [
    "a + b.cuda()"
   ]
  },
  {
   "cell_type": "code",
   "execution_count": 127,
   "id": "configured-framing",
   "metadata": {},
   "outputs": [
    {
     "data": {
      "text/plain": [
       "tensor([[1.2349, 0.7295, 0.6815,  ..., 1.5631, 0.8300, 1.0523],\n",
       "        [0.9990, 1.3701, 1.5639,  ..., 1.0784, 1.4541, 0.8637],\n",
       "        [1.0398, 1.2898, 0.6565,  ..., 0.3882, 0.2094, 0.8458],\n",
       "        ...,\n",
       "        [0.9306, 0.5657, 0.2145,  ..., 1.8956, 1.7528, 0.7059],\n",
       "        [0.7385, 0.9536, 1.6418,  ..., 0.9217, 0.6803, 1.2020],\n",
       "        [1.2648, 0.5691, 1.0409,  ..., 0.7158, 1.7009, 1.8150]])"
      ]
     },
     "execution_count": 127,
     "metadata": {},
     "output_type": "execute_result"
    }
   ],
   "source": [
    "a.cpu() + b"
   ]
  },
  {
   "cell_type": "code",
   "execution_count": 129,
   "id": "valued-envelope",
   "metadata": {},
   "outputs": [
    {
     "data": {
      "text/plain": [
       "'cuda'"
      ]
     },
     "execution_count": 129,
     "metadata": {},
     "output_type": "execute_result"
    }
   ],
   "source": [
    "device = 'cuda' if torch.cuda.is_available() else 'cpu'\n",
    "device"
   ]
  },
  {
   "cell_type": "code",
   "execution_count": 132,
   "id": "freelance-merit",
   "metadata": {},
   "outputs": [
    {
     "data": {
      "text/plain": [
       "tensor([[0.7678, 0.6003, 0.0946,  ..., 0.9442, 0.7229, 0.4457],\n",
       "        [0.1155, 0.6685, 0.6467,  ..., 0.2710, 0.6803, 0.6051],\n",
       "        [0.8804, 0.8408, 0.5338,  ..., 0.2622, 0.0158, 0.1491],\n",
       "        ...,\n",
       "        [0.0962, 0.2079, 0.0195,  ..., 0.9551, 0.9657, 0.1482],\n",
       "        [0.1589, 0.4383, 0.6522,  ..., 0.7306, 0.5973, 0.5732],\n",
       "        [0.5106, 0.0499, 0.1315,  ..., 0.2068, 0.9629, 0.8444]],\n",
       "       device='cuda:0')"
      ]
     },
     "execution_count": 132,
     "metadata": {},
     "output_type": "execute_result"
    }
   ],
   "source": [
    "b.to(device)"
   ]
  },
  {
   "cell_type": "code",
   "execution_count": null,
   "id": "sharing-validation",
   "metadata": {},
   "outputs": [],
   "source": []
  }
 ],
 "metadata": {
  "kernelspec": {
   "display_name": "Python 3",
   "language": "python",
   "name": "python3"
  },
  "language_info": {
   "codemirror_mode": {
    "name": "ipython",
    "version": 3
   },
   "file_extension": ".py",
   "mimetype": "text/x-python",
   "name": "python",
   "nbconvert_exporter": "python",
   "pygments_lexer": "ipython3",
   "version": "3.8.5"
  }
 },
 "nbformat": 4,
 "nbformat_minor": 5
}
