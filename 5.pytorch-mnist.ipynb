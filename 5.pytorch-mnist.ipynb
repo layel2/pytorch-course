{
 "cells": [
  {
   "cell_type": "markdown",
   "id": "metropolitan-warrior",
   "metadata": {},
   "source": [
    "# Pytorch MNIST\n",
    "---\n",
    "by Pranpaveen Lay.\n",
    "\n",
    "[![Open In Colab](https://colab.research.google.com/assets/colab-badge.svg)](https://colab.research.google.com/github/layel2/pytorch-course/blob/main/5.pytorch-mnist.ipynb)"
   ]
  },
  {
   "cell_type": "code",
   "execution_count": 1,
   "id": "beneficial-floor",
   "metadata": {},
   "outputs": [],
   "source": [
    "import numpy as np\n",
    "from matplotlib import pyplot as plt\n",
    "import torch\n",
    "import torchvision"
   ]
  },
  {
   "cell_type": "code",
   "execution_count": 2,
   "id": "interim-philip",
   "metadata": {},
   "outputs": [
    {
     "data": {
      "text/plain": [
       "'cuda'"
      ]
     },
     "execution_count": 2,
     "metadata": {},
     "output_type": "execute_result"
    }
   ],
   "source": [
    "device = 'cuda' if torch.cuda.is_available() else 'cpu'\n",
    "device"
   ]
  },
  {
   "cell_type": "markdown",
   "id": "wooden-humanity",
   "metadata": {},
   "source": [
    "## Load Data"
   ]
  },
  {
   "cell_type": "code",
   "execution_count": 3,
   "id": "clean-company",
   "metadata": {},
   "outputs": [],
   "source": [
    "data_train = torchvision.datasets.MNIST('./data',train=True,download=True,transform=torchvision.transforms.ToTensor())\n",
    "data_test = torchvision.datasets.MNIST('./data',train=False,download=True,transform=torchvision.transforms.ToTensor())"
   ]
  },
  {
   "cell_type": "code",
   "execution_count": 4,
   "id": "computational-arbor",
   "metadata": {},
   "outputs": [
    {
     "data": {
      "text/plain": [
       "(Dataset MNIST\n",
       "     Number of datapoints: 60000\n",
       "     Root location: ./data\n",
       "     Split: Train\n",
       "     StandardTransform\n",
       " Transform: ToTensor(),\n",
       " Dataset MNIST\n",
       "     Number of datapoints: 10000\n",
       "     Root location: ./data\n",
       "     Split: Test\n",
       "     StandardTransform\n",
       " Transform: ToTensor())"
      ]
     },
     "execution_count": 4,
     "metadata": {},
     "output_type": "execute_result"
    }
   ],
   "source": [
    "data_train,data_test"
   ]
  },
  {
   "cell_type": "code",
   "execution_count": 5,
   "id": "sharp-capitol",
   "metadata": {},
   "outputs": [
    {
     "data": {
      "text/plain": [
       "torch.Size([60000, 28, 28])"
      ]
     },
     "execution_count": 5,
     "metadata": {},
     "output_type": "execute_result"
    }
   ],
   "source": [
    "data_train.data.shape"
   ]
  },
  {
   "cell_type": "code",
   "execution_count": 6,
   "id": "incorporated-tucson",
   "metadata": {},
   "outputs": [],
   "source": [
    "loader_train = torch.utils.data.DataLoader(data_train,batch_size=128)\n",
    "loader_test = torch.utils.data.DataLoader(data_test,batch_size=128)"
   ]
  },
  {
   "cell_type": "code",
   "execution_count": 7,
   "id": "adolescent-fourth",
   "metadata": {},
   "outputs": [],
   "source": [
    "#examples = enumerate(loder_test)\n",
    "for example_data, example_targets in loader_test :\n",
    "    break"
   ]
  },
  {
   "cell_type": "code",
   "execution_count": 8,
   "id": "worldwide-quilt",
   "metadata": {},
   "outputs": [
    {
     "data": {
      "text/plain": [
       "torch.Size([128, 1, 28, 28])"
      ]
     },
     "execution_count": 8,
     "metadata": {},
     "output_type": "execute_result"
    }
   ],
   "source": [
    "example_data.shape"
   ]
  },
  {
   "cell_type": "code",
   "execution_count": 9,
   "id": "greenhouse-florence",
   "metadata": {},
   "outputs": [
    {
     "data": {
      "text/plain": [
       "<matplotlib.image.AxesImage at 0x7f689cb2e4c0>"
      ]
     },
     "execution_count": 9,
     "metadata": {},
     "output_type": "execute_result"
    },
    {
     "data": {
      "image/png": "[encoded data removed]",
      "text/plain": [
       "<Figure size 432x288 with 1 Axes>"
      ]
     },
     "metadata": {
      "needs_background": "light"
     },
     "output_type": "display_data"
    }
   ],
   "source": [
    "plt.imshow(example_data[0][0])"
   ]
  },
  {
   "cell_type": "markdown",
   "id": "available-natural",
   "metadata": {},
   "source": [
    "## Building model"
   ]
  },
  {
   "cell_type": "code",
   "execution_count": 10,
   "id": "binary-evans",
   "metadata": {},
   "outputs": [],
   "source": [
    "import torch.nn as nn\n",
    "import torch.nn.functional as F\n",
    "import torch.optim as optim"
   ]
  },
  {
   "cell_type": "markdown",
   "id": "solar-canberra",
   "metadata": {},
   "source": [
    "### Sequential"
   ]
  },
  {
   "cell_type": "code",
   "execution_count": 11,
   "id": "sublime-chorus",
   "metadata": {},
   "outputs": [],
   "source": [
    "model = nn.Sequential(\n",
    "            nn.Conv2d(in_channels=1, out_channels=64, kernel_size=5, stride=1, padding=2),\n",
    "            nn.ReLU(),\n",
    "            nn.Conv2d(in_channels=64, out_channels=64, kernel_size=5, stride=2),\n",
    "            nn.ReLU(),\n",
    "            nn.Dropout(0.25),\n",
    "            nn.Flatten(),\n",
    "            nn.Linear(in_features=64 * 12 * 12, out_features=128),\n",
    "            nn.ReLU(),\n",
    "            nn.Dropout(0.5),\n",
    "            nn.Linear(in_features=128, out_features=10),\n",
    "            nn.LogSoftmax()\n",
    "        )"
   ]
  },
  {
   "cell_type": "markdown",
   "id": "piano-westminster",
   "metadata": {},
   "source": [
    "### Model Class"
   ]
  },
  {
   "cell_type": "code",
   "execution_count": 12,
   "id": "english-cancer",
   "metadata": {},
   "outputs": [],
   "source": [
    "class mnistmodel_2(nn.Module):\n",
    "    def __init__(self):\n",
    "        super().__init__()\n",
    "        self.conv1 = nn.Conv2d(in_channels=1, out_channels=64, kernel_size=5, stride=1, padding=2)\n",
    "        self.conv2 = nn.Conv2d(in_channels=64, out_channels=64, kernel_size=5, stride=2)\n",
    "        self.dense1 = nn.Linear(in_features=64 * 12 * 12, out_features=128)\n",
    "        self.dense2 = nn.Linear(in_features=128, out_features=10)\n",
    "\n",
    "    def forward(self, x):\n",
    "        x = F.relu(self.conv1(x))\n",
    "        x = F.relu(self.conv2(x))\n",
    "        x = F.dropout(x, 0.25)\n",
    "        x = nn.Flatten()(x)\n",
    "        x = F.relu(self.dense1(x))\n",
    "        x = F.dropout(x, 0.5)\n",
    "        x = self.dense2(x)\n",
    "        x = F.log_softmax(x)\n",
    "\n",
    "        return x"
   ]
  },
  {
   "cell_type": "code",
   "execution_count": 13,
   "id": "proper-mercury",
   "metadata": {},
   "outputs": [],
   "source": [
    "model2 = mnistmodel_2()"
   ]
  },
  {
   "cell_type": "code",
   "execution_count": 14,
   "id": "plastic-blade",
   "metadata": {},
   "outputs": [],
   "source": [
    "from torchsummary import summary"
   ]
  },
  {
   "cell_type": "code",
   "execution_count": 15,
   "id": "premium-bennett",
   "metadata": {},
   "outputs": [
    {
     "name": "stdout",
     "output_type": "stream",
     "text": [
      "----------------------------------------------------------------\n",
      "        Layer (type)               Output Shape         Param #\n",
      "================================================================\n",
      "            Conv2d-1           [-1, 64, 28, 28]           1,664\n",
      "              ReLU-2           [-1, 64, 28, 28]               0\n",
      "            Conv2d-3           [-1, 64, 12, 12]         102,464\n",
      "              ReLU-4           [-1, 64, 12, 12]               0\n",
      "           Dropout-5           [-1, 64, 12, 12]               0\n",
      "           Flatten-6                 [-1, 9216]               0\n",
      "            Linear-7                  [-1, 128]       1,179,776\n",
      "              ReLU-8                  [-1, 128]               0\n",
      "           Dropout-9                  [-1, 128]               0\n",
      "           Linear-10                   [-1, 10]           1,290\n",
      "       LogSoftmax-11                   [-1, 10]               0\n",
      "================================================================\n",
      "Total params: 1,285,194\n",
      "Trainable params: 1,285,194\n",
      "Non-trainable params: 0\n",
      "----------------------------------------------------------------\n",
      "Input size (MB): 0.00\n",
      "Forward/backward pass size (MB): 1.05\n",
      "Params size (MB): 4.90\n",
      "Estimated Total Size (MB): 5.96\n",
      "----------------------------------------------------------------\n"
     ]
    },
    {
     "name": "stderr",
     "output_type": "stream",
     "text": [
      "/home/lay/miniconda3/lib/python3.9/site-packages/torch/nn/modules/container.py:141: UserWarning: Implicit dimension choice for log_softmax has been deprecated. Change the call to include dim=X as an argument.\n",
      "  input = module(input)\n"
     ]
    }
   ],
   "source": [
    "summary(model.to(device),(1,28,28))"
   ]
  },
  {
   "cell_type": "code",
   "execution_count": 16,
   "id": "numeric-montana",
   "metadata": {},
   "outputs": [
    {
     "name": "stdout",
     "output_type": "stream",
     "text": [
      "----------------------------------------------------------------\n",
      "        Layer (type)               Output Shape         Param #\n",
      "================================================================\n",
      "            Conv2d-1           [-1, 64, 28, 28]           1,664\n",
      "            Conv2d-2           [-1, 64, 12, 12]         102,464\n",
      "            Linear-3                  [-1, 128]       1,179,776\n",
      "            Linear-4                   [-1, 10]           1,290\n",
      "================================================================\n",
      "Total params: 1,285,194\n",
      "Trainable params: 1,285,194\n",
      "Non-trainable params: 0\n",
      "----------------------------------------------------------------\n",
      "Input size (MB): 0.00\n",
      "Forward/backward pass size (MB): 0.45\n",
      "Params size (MB): 4.90\n",
      "Estimated Total Size (MB): 5.36\n",
      "----------------------------------------------------------------\n"
     ]
    },
    {
     "name": "stderr",
     "output_type": "stream",
     "text": [
      "/tmp/ipykernel_16175/400680101.py:17: UserWarning: Implicit dimension choice for log_softmax has been deprecated. Change the call to include dim=X as an argument.\n",
      "  x = F.log_softmax(x)\n"
     ]
    }
   ],
   "source": [
    "summary(model2.to(device),(1,28,28))"
   ]
  },
  {
   "cell_type": "markdown",
   "id": "surrounded-sigma",
   "metadata": {},
   "source": [
    "## Define function"
   ]
  },
  {
   "cell_type": "code",
   "execution_count": 17,
   "id": "specific-century",
   "metadata": {},
   "outputs": [],
   "source": [
    "def test(model,loader,verbose=True):\n",
    "    model.eval()\n",
    "    test_loss = 0\n",
    "    correct = 0\n",
    "    with torch.no_grad():\n",
    "        for data, target in loader:\n",
    "            data = data.to(device)\n",
    "            target = target.to(device)\n",
    "            output = model(data)\n",
    "            test_loss += F.nll_loss(output, target, size_average=False).item()\n",
    "            pred = output.data.max(1, keepdim=True)[1]\n",
    "            correct += pred.eq(target.data.view_as(pred)).sum()\n",
    "        test_loss /= len(loader.dataset)\n",
    "        test_acc = 100. * correct / len(loader.dataset)\n",
    "        if verbose:\n",
    "            print(f'\\nTest set: Avg. loss: {test_loss:.4f}, Accuracy: {correct}/{len(loader.dataset)} ({test_acc:.2f}%)\\n')\n",
    "        return test_loss, test_acc.item()"
   ]
  },
  {
   "cell_type": "code",
   "execution_count": 18,
   "id": "individual-clerk",
   "metadata": {},
   "outputs": [
    {
     "name": "stderr",
     "output_type": "stream",
     "text": [
      "/home/lay/miniconda3/lib/python3.9/site-packages/torch/nn/_reduction.py:42: UserWarning: size_average and reduce args will be deprecated, please use reduction='sum' instead.\n",
      "  warnings.warn(warning.format(ret))\n"
     ]
    },
    {
     "name": "stdout",
     "output_type": "stream",
     "text": [
      "\n",
      "Test set: Avg. loss: 2.3078, Accuracy: 1268/10000 (12.68%)\n",
      "\n"
     ]
    },
    {
     "data": {
      "text/plain": [
       "(2.3078482078552245, 12.679999351501465)"
      ]
     },
     "execution_count": 18,
     "metadata": {},
     "output_type": "execute_result"
    }
   ],
   "source": [
    "test(model,loader_test)"
   ]
  },
  {
   "cell_type": "code",
   "execution_count": 19,
   "id": "unsigned-request",
   "metadata": {},
   "outputs": [],
   "source": [
    "train_losses = []\n",
    "test_losses = []\n",
    "n_epochs = 10"
   ]
  },
  {
   "cell_type": "code",
   "execution_count": 20,
   "id": "fitted-variance",
   "metadata": {},
   "outputs": [],
   "source": [
    "optimizer = optim.Adam(model.parameters(),lr=0.001)"
   ]
  },
  {
   "cell_type": "code",
   "execution_count": 21,
   "id": "beneficial-sauce",
   "metadata": {},
   "outputs": [],
   "source": [
    "loss_fn = nn.NLLLoss()"
   ]
  },
  {
   "cell_type": "code",
   "execution_count": 22,
   "id": "careful-consultation",
   "metadata": {},
   "outputs": [],
   "source": [
    "log_interval = 100\n",
    "def train(epoch,model=model,loader_train=loader_train, loss_fn = loss_fn):\n",
    "    model.train()\n",
    "    train_loss = 0\n",
    "    correct = 0\n",
    "    for batch_idx, (data, target) in enumerate(loader_train):\n",
    "        optimizer.zero_grad()\n",
    "        data = data.to(device)\n",
    "        target = target.to(device)\n",
    "        output = model(data)\n",
    "        loss = loss_fn(output, target)\n",
    "        loss.backward()\n",
    "        optimizer.step()\n",
    "        train_loss+=loss.item()\n",
    "        pred = output.data.max(1, keepdim=True)[1]\n",
    "        correct += pred.eq(target.data.view_as(pred)).sum()\n",
    "        if batch_idx % log_interval == 0:\n",
    "            print('Train Epoch: {} [{}/{} ({:.0f}%)]\\tLoss: {:.6f}'.format(\n",
    "                epoch, batch_idx * len(data), len(loader_train.dataset),\n",
    "                100. * batch_idx / len(loader_train), loss.item()))\n",
    "            #train_losses.append(loss.item())\n",
    "    #train_loss,train_acc = test(model,loader_train, verbose=False)\n",
    "    train_loss /= len(loader_train.dataset)\n",
    "    train_acc = 100. * correct / len(loader_train.dataset)\n",
    "    test_loss,test_acc = test(model,loader_test, verbose=False)\n",
    "    train_losses.append([train_loss,train_acc.item()])\n",
    "    test_losses.append([test_loss,test_acc])\n",
    "    print(f\"epoch {epoch} : train_loss {train_loss:.6f}, train_acc {train_acc:.2f}, eval_loss {test_loss:.6f}, eval_acc {test_acc:.2f}\")\n"
   ]
  },
  {
   "cell_type": "code",
   "execution_count": 23,
   "id": "asian-speaking",
   "metadata": {},
   "outputs": [
    {
     "name": "stdout",
     "output_type": "stream",
     "text": [
      "Train Epoch: 0 [0/60000 (0%)]\tLoss: 2.305792\n",
      "Train Epoch: 0 [12800/60000 (21%)]\tLoss: 0.282013\n",
      "Train Epoch: 0 [25600/60000 (43%)]\tLoss: 0.132020\n",
      "Train Epoch: 0 [38400/60000 (64%)]\tLoss: 0.148526\n",
      "Train Epoch: 0 [51200/60000 (85%)]\tLoss: 0.128106\n",
      "epoch 0 : train_loss 0.001950, train_acc 92.32, eval_loss 0.052899, eval_acc 98.20\n",
      "Train Epoch: 1 [0/60000 (0%)]\tLoss: 0.095884\n",
      "Train Epoch: 1 [12800/60000 (21%)]\tLoss: 0.059671\n",
      "Train Epoch: 1 [25600/60000 (43%)]\tLoss: 0.127917\n",
      "Train Epoch: 1 [38400/60000 (64%)]\tLoss: 0.058926\n",
      "Train Epoch: 1 [51200/60000 (85%)]\tLoss: 0.160071\n",
      "epoch 1 : train_loss 0.000708, train_acc 97.34, eval_loss 0.040692, eval_acc 98.63\n",
      "Train Epoch: 2 [0/60000 (0%)]\tLoss: 0.058239\n",
      "Train Epoch: 2 [12800/60000 (21%)]\tLoss: 0.060736\n",
      "Train Epoch: 2 [25600/60000 (43%)]\tLoss: 0.076005\n",
      "Train Epoch: 2 [38400/60000 (64%)]\tLoss: 0.058946\n",
      "Train Epoch: 2 [51200/60000 (85%)]\tLoss: 0.125777\n",
      "epoch 2 : train_loss 0.000498, train_acc 98.15, eval_loss 0.036201, eval_acc 98.78\n",
      "Train Epoch: 3 [0/60000 (0%)]\tLoss: 0.075796\n",
      "Train Epoch: 3 [12800/60000 (21%)]\tLoss: 0.044618\n",
      "Train Epoch: 3 [25600/60000 (43%)]\tLoss: 0.050555\n",
      "Train Epoch: 3 [38400/60000 (64%)]\tLoss: 0.077974\n",
      "Train Epoch: 3 [51200/60000 (85%)]\tLoss: 0.114015\n",
      "epoch 3 : train_loss 0.000404, train_acc 98.46, eval_loss 0.030389, eval_acc 98.96\n",
      "Train Epoch: 4 [0/60000 (0%)]\tLoss: 0.063990\n",
      "Train Epoch: 4 [12800/60000 (21%)]\tLoss: 0.015729\n",
      "Train Epoch: 4 [25600/60000 (43%)]\tLoss: 0.062453\n",
      "Train Epoch: 4 [38400/60000 (64%)]\tLoss: 0.057694\n",
      "Train Epoch: 4 [51200/60000 (85%)]\tLoss: 0.103302\n",
      "epoch 4 : train_loss 0.000341, train_acc 98.64, eval_loss 0.027182, eval_acc 99.08\n",
      "Train Epoch: 5 [0/60000 (0%)]\tLoss: 0.035729\n",
      "Train Epoch: 5 [12800/60000 (21%)]\tLoss: 0.011047\n",
      "Train Epoch: 5 [25600/60000 (43%)]\tLoss: 0.047085\n",
      "Train Epoch: 5 [38400/60000 (64%)]\tLoss: 0.029553\n",
      "Train Epoch: 5 [51200/60000 (85%)]\tLoss: 0.133354\n",
      "epoch 5 : train_loss 0.000289, train_acc 98.85, eval_loss 0.028733, eval_acc 99.05\n",
      "Train Epoch: 6 [0/60000 (0%)]\tLoss: 0.059530\n",
      "Train Epoch: 6 [12800/60000 (21%)]\tLoss: 0.023614\n",
      "Train Epoch: 6 [25600/60000 (43%)]\tLoss: 0.079577\n",
      "Train Epoch: 6 [38400/60000 (64%)]\tLoss: 0.043399\n",
      "Train Epoch: 6 [51200/60000 (85%)]\tLoss: 0.053864\n",
      "epoch 6 : train_loss 0.000246, train_acc 98.99, eval_loss 0.027973, eval_acc 99.16\n",
      "Train Epoch: 7 [0/60000 (0%)]\tLoss: 0.026188\n",
      "Train Epoch: 7 [12800/60000 (21%)]\tLoss: 0.004235\n",
      "Train Epoch: 7 [25600/60000 (43%)]\tLoss: 0.045491\n",
      "Train Epoch: 7 [38400/60000 (64%)]\tLoss: 0.063060\n",
      "Train Epoch: 7 [51200/60000 (85%)]\tLoss: 0.067990\n",
      "epoch 7 : train_loss 0.000233, train_acc 99.09, eval_loss 0.031126, eval_acc 98.97\n",
      "Train Epoch: 8 [0/60000 (0%)]\tLoss: 0.027044\n",
      "Train Epoch: 8 [12800/60000 (21%)]\tLoss: 0.036771\n",
      "Train Epoch: 8 [25600/60000 (43%)]\tLoss: 0.002647\n",
      "Train Epoch: 8 [38400/60000 (64%)]\tLoss: 0.004893\n",
      "Train Epoch: 8 [51200/60000 (85%)]\tLoss: 0.035059\n",
      "epoch 8 : train_loss 0.000210, train_acc 99.16, eval_loss 0.023915, eval_acc 99.23\n",
      "Train Epoch: 9 [0/60000 (0%)]\tLoss: 0.029358\n",
      "Train Epoch: 9 [12800/60000 (21%)]\tLoss: 0.020353\n",
      "Train Epoch: 9 [25600/60000 (43%)]\tLoss: 0.002246\n",
      "Train Epoch: 9 [38400/60000 (64%)]\tLoss: 0.017254\n",
      "Train Epoch: 9 [51200/60000 (85%)]\tLoss: 0.062021\n",
      "epoch 9 : train_loss 0.000192, train_acc 99.18, eval_loss 0.030084, eval_acc 99.11\n"
     ]
    }
   ],
   "source": [
    "for epoch in range(n_epochs):\n",
    "    train(epoch)"
   ]
  },
  {
   "cell_type": "code",
   "execution_count": 24,
   "id": "moral-trial",
   "metadata": {},
   "outputs": [
    {
     "data": {
      "text/plain": [
       "Text(0.5, 1.0, 'Loss')"
      ]
     },
     "execution_count": 24,
     "metadata": {},
     "output_type": "execute_result"
    },
    {
     "data": {
      "image/png": "[encoded data removed]",
      "text/plain": [
       "<Figure size 432x288 with 1 Axes>"
      ]
     },
     "metadata": {
      "needs_background": "light"
     },
     "output_type": "display_data"
    }
   ],
   "source": [
    "plt.plot(np.array(train_losses)[:,0])\n",
    "plt.plot(np.array(test_losses)[:,0])\n",
    "plt.legend(['train loss','test loss'])\n",
    "plt.title('Loss')"
   ]
  },
  {
   "cell_type": "code",
   "execution_count": 25,
   "id": "micro-boston",
   "metadata": {},
   "outputs": [
    {
     "data": {
      "text/plain": [
       "Text(0.5, 1.0, 'Accuracy')"
      ]
     },
     "execution_count": 25,
     "metadata": {},
     "output_type": "execute_result"
    },
    {
     "data": {
      "image/png": "[encoded data removed]",
      "text/plain": [
       "<Figure size 432x288 with 1 Axes>"
      ]
     },
     "metadata": {
      "needs_background": "light"
     },
     "output_type": "display_data"
    }
   ],
   "source": [
    "plt.plot(np.array(train_losses)[:,1])\n",
    "plt.plot(np.array(test_losses)[:,1])\n",
    "plt.legend(['train acc','test acc'])\n",
    "plt.title('Accuracy')"
   ]
  },
  {
   "cell_type": "markdown",
   "id": "filled-spectacular",
   "metadata": {},
   "source": [
    "## save model"
   ]
  },
  {
   "cell_type": "code",
   "execution_count": 26,
   "id": "prostate-paintball",
   "metadata": {},
   "outputs": [
    {
     "name": "stdout",
     "output_type": "stream",
     "text": [
      "mkdir: cannot create directory ‘saved_model’: File exists\r\n"
     ]
    }
   ],
   "source": [
    "!mkdir saved_model"
   ]
  },
  {
   "cell_type": "code",
   "execution_count": 27,
   "id": "pointed-scene",
   "metadata": {},
   "outputs": [],
   "source": [
    "torch.save(model, 'saved_model/minst_model.pth')"
   ]
  },
  {
   "cell_type": "code",
   "execution_count": 28,
   "id": "overhead-journalist",
   "metadata": {},
   "outputs": [],
   "source": [
    "torch.save(model.state_dict(), 'saved_model/mnist_model_weights.pth')"
   ]
  },
  {
   "cell_type": "code",
   "execution_count": 29,
   "id": "forty-bride",
   "metadata": {},
   "outputs": [
    {
     "data": {
      "text/plain": [
       "OrderedDict([('0.weight',\n",
       "              tensor([[[[ 0.0813, -0.0930, -0.1211, -0.0530, -0.0123],\n",
       "                        [ 0.1390, -0.0608,  0.0307, -0.2377, -0.1902],\n",
       "                        [-0.0137,  0.2800, -0.0341,  0.1889,  0.0703],\n",
       "                        [ 0.0262,  0.0589,  0.1862,  0.2660,  0.2129],\n",
       "                        [-0.1143, -0.1497, -0.1202, -0.1200, -0.1000]]],\n",
       "              \n",
       "              \n",
       "                      [[[-0.1644, -0.1992, -0.0822,  0.0543,  0.1311],\n",
       "                        [-0.1919, -0.0864,  0.0383,  0.1557,  0.0559],\n",
       "                        [-0.2030, -0.1885, -0.1732,  0.1742,  0.1862],\n",
       "                        [ 0.1086, -0.0690,  0.0923, -0.0004,  0.0747],\n",
       "                        [ 0.1736, -0.0779, -0.2006,  0.1309,  0.1396]]],\n",
       "              \n",
       "              \n",
       "                      [[[-0.0792, -0.1277,  0.0135, -0.0980, -0.3119],\n",
       "                        [-0.1062, -0.1178, -0.1044,  0.1077, -0.2018],\n",
       "                        [-0.0875, -0.0660,  0.0616,  0.1170,  0.0267],\n",
       "                        [-0.2334, -0.1437,  0.1265,  0.0680,  0.1263],\n",
       "                        [-0.1511, -0.1129,  0.0578,  0.1196,  0.0908]]],\n",
       "              \n",
       "              \n",
       "                      ...,\n",
       "              \n",
       "              \n",
       "                      [[[ 0.1497,  0.0213,  0.1505,  0.2714, -0.0160],\n",
       "                        [ 0.1179,  0.2661, -0.0104, -0.0350,  0.0574],\n",
       "                        [ 0.0374,  0.2195,  0.0956,  0.1369, -0.0997],\n",
       "                        [-0.2020, -0.2086,  0.0282, -0.1831,  0.1222],\n",
       "                        [ 0.0213, -0.3026, -0.2859, -0.2558, -0.0031]]],\n",
       "              \n",
       "              \n",
       "                      [[[ 0.0460,  0.0476,  0.1295,  0.1671,  0.1973],\n",
       "                        [ 0.2504, -0.0404,  0.1491,  0.1219,  0.1611],\n",
       "                        [ 0.0287, -0.0598,  0.0647, -0.0952, -0.1388],\n",
       "                        [-0.2799, -0.0220, -0.0972, -0.2387, -0.0647],\n",
       "                        [-0.2098, -0.2997, -0.3900, -0.1797, -0.1022]]],\n",
       "              \n",
       "              \n",
       "                      [[[ 0.0915,  0.0936,  0.1312, -0.1426, -0.2167],\n",
       "                        [ 0.2419,  0.0275,  0.0273, -0.2543, -0.2842],\n",
       "                        [ 0.0032, -0.2282,  0.1211, -0.1352,  0.1521],\n",
       "                        [ 0.0680, -0.0929, -0.2613,  0.1077, -0.1365],\n",
       "                        [-0.2074, -0.0505,  0.0057,  0.0306, -0.0701]]]], device='cuda:0')),\n",
       "             ('0.bias',\n",
       "              tensor([-0.1243, -0.1613,  0.0477, -0.1138, -0.0117, -0.1495, -0.0058, -0.1637,\n",
       "                      -0.2625, -0.0295, -0.0359, -0.1054,  0.0234,  0.0328,  0.0428, -0.0210,\n",
       "                       0.0423, -0.1757, -0.0547,  0.0795, -0.0140, -0.0990,  0.0523,  0.0099,\n",
       "                      -0.0062, -0.0182, -0.0498, -0.2005, -0.1603, -0.0826, -0.0234, -0.0984,\n",
       "                      -0.0608, -0.0257, -0.2774,  0.1244, -0.0267, -0.0124, -0.0117,  0.0597,\n",
       "                       0.1050, -0.0434,  0.0493, -0.0562, -0.1961, -0.0281, -0.1464, -0.0585,\n",
       "                       0.0300, -0.1381,  0.0717,  0.0509,  0.0276, -0.0056, -0.0122,  0.0253,\n",
       "                      -0.1406, -0.0249, -0.0399, -0.1003, -0.1397, -0.1026,  0.0430,  0.0093],\n",
       "                     device='cuda:0')),\n",
       "             ('2.weight',\n",
       "              tensor([[[[ 7.1778e-02,  1.4047e-01,  1.6607e-01,  1.4681e-01,  9.2377e-02],\n",
       "                        [ 4.7105e-02, -1.5667e-02,  3.1316e-02,  1.1344e-02,  5.3391e-02],\n",
       "                        [-1.1439e-01, -5.7357e-02, -6.9699e-02,  5.3058e-02,  1.2274e-01],\n",
       "                        [-5.0948e-02, -1.1114e-01, -5.8208e-02,  6.7972e-02,  1.1037e-01],\n",
       "                        [ 1.2101e-01,  1.1067e-01,  1.0680e-01,  1.0024e-01,  1.6238e-01]],\n",
       "              \n",
       "                       [[ 2.8176e-02,  4.9151e-03,  1.8055e-02,  4.2130e-02,  2.9760e-02],\n",
       "                        [ 3.0496e-02,  2.7241e-02,  4.0998e-02, -1.3729e-02,  1.4966e-02],\n",
       "                        [ 8.7706e-02,  8.2438e-02,  6.1004e-02, -1.7201e-02, -4.1499e-02],\n",
       "                        [ 7.2636e-02,  1.0294e-01,  4.5662e-02,  2.4038e-02, -3.0814e-02],\n",
       "                        [ 5.2969e-02,  7.9263e-02,  6.1945e-02,  4.2337e-02, -4.3119e-02]],\n",
       "              \n",
       "                       [[ 6.7359e-02,  7.2684e-02,  2.7880e-02,  2.7869e-02, -3.0506e-02],\n",
       "                        [ 1.6096e-02,  6.4798e-02,  5.9537e-02,  2.5867e-02, -3.9449e-02],\n",
       "                        [ 8.1936e-03,  1.1419e-02,  2.4174e-02,  5.4690e-03, -4.0265e-02],\n",
       "                        [ 1.0209e-02,  1.2265e-02, -4.1136e-03, -2.0995e-02, -1.8845e-02],\n",
       "                        [-2.9549e-02, -3.4910e-02, -4.7773e-02, -2.6386e-02, -2.2558e-02]],\n",
       "              \n",
       "                       ...,\n",
       "              \n",
       "                       [[-1.2643e-02, -1.0951e-01, -1.5648e-01, -1.7840e-01, -1.2928e-01],\n",
       "                        [-5.2702e-03, -1.0700e-01, -1.6449e-01, -1.8657e-01, -1.9526e-01],\n",
       "                        [-7.7265e-02, -1.1628e-01, -9.7988e-02, -1.7802e-01, -2.5555e-01],\n",
       "                        [-1.2338e-01, -2.0232e-01, -1.5328e-01, -1.5824e-01, -1.8154e-01],\n",
       "                        [-1.1633e-01, -1.2087e-01, -8.1026e-02, -3.7157e-02, -3.4992e-02]],\n",
       "              \n",
       "                       [[-1.5358e-01, -2.5923e-01, -2.2861e-01, -1.6423e-01, -8.7246e-02],\n",
       "                        [-1.0552e-01, -2.7321e-01, -2.5976e-01, -7.5219e-02, -6.2457e-02],\n",
       "                        [-1.1350e-01, -1.3252e-01, -1.8600e-01, -1.0934e-01, -1.8549e-01],\n",
       "                        [-1.2661e-01, -1.4675e-01, -1.4425e-01, -1.8498e-01, -1.4113e-01],\n",
       "                        [-1.1606e-01, -7.5582e-02, -6.4065e-02, -2.0540e-02,  3.2622e-02]],\n",
       "              \n",
       "                       [[-8.4468e-03,  7.5915e-03,  3.0260e-02, -2.6851e-02, -8.1246e-02],\n",
       "                        [-6.0781e-03, -1.4157e-02, -5.8446e-02, -2.3339e-02, -6.9569e-02],\n",
       "                        [-1.1553e-02,  1.1466e-02, -2.3157e-02, -2.3164e-02, -4.5552e-02],\n",
       "                        [ 7.9506e-03,  4.1289e-03, -4.5280e-02, -3.5148e-02, -5.3697e-02],\n",
       "                        [-4.0337e-02,  6.3032e-03, -3.2362e-02, -5.6842e-02, -1.2726e-01]]],\n",
       "              \n",
       "              \n",
       "                      [[[-1.2257e-01, -5.4204e-02,  4.0628e-03,  1.2925e-01,  1.6308e-01],\n",
       "                        [-1.6528e-01, -1.1721e-01, -1.1492e-01, -4.8829e-02, -1.1443e-01],\n",
       "                        [-5.9888e-02, -2.2020e-01, -8.1368e-02, -1.0766e-01, -9.2194e-02],\n",
       "                        [-3.1342e-01, -2.8401e-01, -1.5934e-01,  4.3503e-02,  5.4767e-02],\n",
       "                        [-6.5602e-02,  1.4101e-02,  1.5974e-02,  4.1888e-02,  5.7328e-02]],\n",
       "              \n",
       "                       [[ 6.1927e-02,  2.0954e-02, -1.1393e-02, -2.0835e-02, -1.1920e-03],\n",
       "                        [ 4.2912e-02,  6.4564e-03,  1.1922e-02, -1.5058e-03, -3.0404e-03],\n",
       "                        [ 2.7618e-02,  3.4427e-02,  2.1845e-02,  1.2445e-02, -7.9999e-02],\n",
       "                        [ 2.8716e-02,  3.4238e-02,  4.7440e-02,  1.9550e-02, -1.0122e-01],\n",
       "                        [ 1.9221e-02,  4.6040e-02,  5.0615e-02,  4.1520e-02, -1.0910e-01]],\n",
       "              \n",
       "                       [[ 2.3651e-02, -3.2254e-02,  2.4887e-02,  5.5483e-02, -2.4189e-03],\n",
       "                        [ 1.9079e-02,  7.6498e-03, -1.1710e-02,  4.8564e-02, -5.7060e-02],\n",
       "                        [ 1.5052e-02,  3.3839e-03,  2.0217e-02,  2.5416e-02, -3.4816e-03],\n",
       "                        [ 6.2605e-03,  2.3133e-02,  1.5468e-02,  1.4291e-02,  8.6092e-03],\n",
       "                        [ 1.3534e-02,  7.7003e-03,  5.8843e-02,  1.0308e-01,  3.8261e-02]],\n",
       "              \n",
       "                       ...,\n",
       "              \n",
       "                       [[-1.6176e-02, -1.2326e-01, -8.6075e-02, -5.6961e-02,  5.9056e-02],\n",
       "                        [-2.5040e-02, -9.8059e-02, -2.0339e-01, -8.2809e-02,  1.6900e-02],\n",
       "                        [ 2.6423e-02, -3.5653e-02, -8.9032e-02, -1.9029e-01, -1.0538e-01],\n",
       "                        [ 5.9313e-03, -2.0516e-02, -2.3329e-02, -7.9284e-02, -1.4486e-01],\n",
       "                        [-1.0470e-01, -1.3142e-01, -1.0459e-01, -1.6887e-01, -1.6109e-01]],\n",
       "              \n",
       "                       [[-1.0762e-01, -1.0305e-01, -7.3049e-02,  3.3791e-03,  4.1862e-02],\n",
       "                        [-5.2012e-02, -1.6117e-01, -2.1216e-01, -3.0020e-02,  2.0496e-02],\n",
       "                        [-2.9973e-03, -1.0103e-01, -2.5898e-01, -1.8476e-01, -1.4051e-01],\n",
       "                        [ 9.3468e-03, -7.4258e-02, -1.3891e-01, -2.3963e-01, -2.2980e-01],\n",
       "                        [-4.1364e-02, -5.2907e-02, -1.0997e-01, -2.1681e-01, -2.4488e-01]],\n",
       "              \n",
       "                       [[ 4.4359e-02, -4.8854e-02, -7.1887e-02,  4.9208e-02, -5.3314e-02],\n",
       "                        [ 6.9350e-02, -3.4388e-02, -6.8886e-02, -1.2186e-02,  2.3239e-02],\n",
       "                        [ 6.3380e-02, -1.4563e-02, -3.7990e-02,  2.9707e-02,  1.0044e-03],\n",
       "                        [ 4.3713e-02, -2.0143e-02, -8.0236e-02, -2.8480e-03, -6.4642e-02],\n",
       "                        [ 4.2392e-02,  5.9272e-03, -8.1404e-02, -6.1373e-02, -1.2513e-01]]],\n",
       "              \n",
       "              \n",
       "                      [[[ 6.1166e-02,  9.7296e-02,  8.6944e-02, -2.6705e-02, -2.3293e-02],\n",
       "                        [-1.1425e-01, -5.1772e-02,  1.6325e-02, -1.2678e-01, -9.3272e-02],\n",
       "                        [-1.2816e-01, -2.7833e-02,  7.7375e-02,  1.0035e-02, -3.4177e-02],\n",
       "                        [-1.1232e-01, -3.9501e-02,  7.8611e-02,  8.8804e-02,  3.3618e-02],\n",
       "                        [-5.2943e-02,  8.3235e-04,  6.2829e-02,  1.0508e-01,  6.5977e-02]],\n",
       "              \n",
       "                       [[-6.6132e-02, -4.9725e-02, -2.7399e-02, -5.0947e-02, -5.6421e-02],\n",
       "                        [-6.1530e-02, -6.9446e-03, -2.9078e-02, -3.3101e-02, -4.1672e-02],\n",
       "                        [ 1.2763e-02, -1.4595e-02, -3.0543e-02, -1.4176e-02, -2.1334e-02],\n",
       "                        [ 3.0029e-02,  2.3376e-02,  4.5465e-03, -2.0929e-02, -3.2717e-02],\n",
       "                        [ 2.7725e-02,  3.8803e-02,  1.6338e-02,  3.5271e-03, -3.7103e-02]],\n",
       "              \n",
       "                       [[-5.5361e-02, -4.8140e-02, -1.4311e-02, -1.8938e-02, -3.0258e-02],\n",
       "                        [ 1.0715e-02, -2.1607e-02, -3.2243e-04,  1.0565e-03, -2.0431e-02],\n",
       "                        [ 3.1858e-02,  3.0005e-02,  2.1538e-02, -1.1296e-02,  3.9215e-03],\n",
       "                        [ 8.9332e-03,  6.6360e-02,  2.7811e-03,  1.3611e-02,  2.7152e-03],\n",
       "                        [-4.4197e-02,  2.9143e-02,  1.4027e-02,  1.5261e-02,  4.3919e-03]],\n",
       "              \n",
       "                       ...,\n",
       "              \n",
       "                       [[ 4.2080e-02, -5.7868e-02, -7.7833e-02, -1.7651e-01, -1.4808e-01],\n",
       "                        [ 7.5612e-02, -1.1778e-01, -1.0259e-01, -9.6544e-02, -4.9111e-02],\n",
       "                        [-6.6913e-02, -6.5472e-02, -5.3937e-02, -7.2095e-02,  3.1543e-02],\n",
       "                        [-1.2228e-01, -1.1616e-01, -9.4342e-03, -4.4228e-02,  1.3784e-02],\n",
       "                        [-6.4664e-02, -5.7820e-02, -3.0240e-02, -5.5724e-02, -3.8295e-02]],\n",
       "              \n",
       "                       [[-6.5178e-02, -1.2424e-01, -1.5839e-02, -9.5452e-02, -1.4212e-01],\n",
       "                        [-1.0180e-01, -1.0560e-01, -7.1368e-02, -5.8377e-02, -1.1045e-01],\n",
       "                        [-8.8327e-02, -1.4041e-01, -8.7406e-02,  3.3383e-03, -1.0225e-01],\n",
       "                        [-8.8067e-02, -1.7759e-01, -1.3191e-01, -6.4581e-02, -1.3819e-01],\n",
       "                        [-8.9945e-03, -3.9126e-02, -4.0872e-04, -2.0076e-02,  2.9200e-02]],\n",
       "              \n",
       "                       [[ 3.0421e-02,  1.1691e-02, -3.6241e-02, -3.9028e-02, -5.6202e-02],\n",
       "                        [-2.0031e-02, -2.0746e-02, -4.8837e-02, -3.3893e-02, -4.3671e-02],\n",
       "                        [ 1.2677e-02, -5.2138e-02, -3.8905e-02, -1.4029e-02, -5.5492e-02],\n",
       "                        [-2.8968e-02,  4.0318e-03,  1.0510e-02, -4.6488e-02, -3.6392e-02],\n",
       "                        [-1.1387e-02, -2.1301e-02, -5.5296e-02, -2.7661e-02, -2.7285e-02]]],\n",
       "              \n",
       "              \n",
       "                      ...,\n",
       "              \n",
       "              \n",
       "                      [[[-1.5219e-02,  5.0551e-02,  9.6194e-02,  7.6271e-02, -1.4113e-01],\n",
       "                        [ 1.1992e-02, -1.0030e-02,  5.5327e-02,  8.6795e-02,  1.1804e-01],\n",
       "                        [-4.7134e-02,  5.9232e-02,  6.9029e-02,  1.1290e-01,  1.0730e-01],\n",
       "                        [-8.5940e-02, -7.3295e-02,  8.5448e-02,  4.6747e-02,  9.4523e-02],\n",
       "                        [-1.3812e-01, -2.3937e-01, -1.9254e-01,  4.0078e-02,  1.2405e-01]],\n",
       "              \n",
       "                       [[-7.8678e-02, -6.1403e-02, -8.0975e-02, -8.2681e-02, -1.1956e-01],\n",
       "                        [-6.0197e-02, -1.8821e-02, -2.5930e-02, -1.0147e-01, -1.3534e-01],\n",
       "                        [-1.1141e-01, -1.6033e-02,  3.7714e-02, -5.8327e-02, -1.7974e-01],\n",
       "                        [-1.0350e-01, -3.6829e-02,  9.1089e-02, -3.0924e-02, -1.6111e-01],\n",
       "                        [-8.9170e-02, -1.6744e-02,  1.0219e-01,  5.4821e-02, -4.1669e-02]],\n",
       "              \n",
       "                       [[-2.6585e-02, -5.4459e-02, -4.6969e-02, -9.4314e-02, -1.6760e-01],\n",
       "                        [-5.2290e-02, -2.0891e-02,  1.8836e-02,  6.3272e-03, -1.0621e-01],\n",
       "                        [-4.1284e-02, -1.6146e-02,  7.5486e-02,  8.2342e-02, -6.2947e-02],\n",
       "                        [-6.5801e-02, -1.1810e-03,  6.9638e-02,  1.1498e-01,  3.0558e-02],\n",
       "                        [-7.4236e-02, -4.0865e-02,  7.5320e-02,  1.1803e-01,  1.1308e-01]],\n",
       "              \n",
       "                       ...,\n",
       "              \n",
       "                       [[ 1.2676e-01,  9.4664e-02, -7.9791e-02, -2.2327e-01, -5.7349e-05],\n",
       "                        [ 1.4200e-01,  1.4071e-01,  1.9780e-03, -3.4868e-02, -2.1255e-01],\n",
       "                        [ 6.5650e-02,  4.5976e-02,  1.3786e-02,  6.3953e-03,  1.1035e-02],\n",
       "                        [ 4.6845e-02, -1.4264e-02, -4.1233e-02, -7.2661e-02, -1.3685e-02],\n",
       "                        [-9.3625e-02, -1.3401e-01, -1.1778e-01, -1.1498e-01, -1.1251e-01]],\n",
       "              \n",
       "                       [[-5.2393e-02, -2.1974e-01, -3.1235e-01, -2.9627e-01, -9.5704e-02],\n",
       "                        [ 2.0009e-03, -1.8777e-01, -3.1349e-01, -3.5252e-01, -2.2080e-01],\n",
       "                        [-1.6276e-02, -4.2409e-02, -1.4181e-01, -1.1625e-01, -1.7143e-01],\n",
       "                        [-2.2989e-03, -2.9575e-02, -8.6282e-02, -9.3493e-02, -3.7066e-02],\n",
       "                        [-4.0899e-02, -5.8666e-02, -1.3149e-01, -1.2977e-01, -7.1266e-02]],\n",
       "              \n",
       "                       [[ 1.6473e-01,  5.4880e-02,  1.1708e-01,  4.6002e-02,  1.3173e-01],\n",
       "                        [ 1.3303e-01,  5.2099e-02,  6.5574e-02,  6.3383e-02,  3.3149e-02],\n",
       "                        [ 1.0239e-02,  1.6043e-02,  4.3761e-02,  5.0600e-02, -2.1966e-02],\n",
       "                        [-2.3018e-02,  4.5015e-02, -2.0242e-03, -1.8611e-02, -3.6798e-02],\n",
       "                        [-5.6088e-02,  4.5036e-03, -4.0783e-02, -3.1617e-02,  5.0316e-03]]],\n",
       "              \n",
       "              \n",
       "                      [[[-2.5502e-03,  4.7098e-02, -2.3735e-02, -3.5933e-02, -9.8935e-03],\n",
       "                        [-6.7763e-03, -5.1174e-02, -2.9483e-02, -1.3248e-02, -3.6139e-02],\n",
       "                        [-2.1039e-02, -1.9430e-02, -3.1668e-02, -4.9046e-02, -2.0145e-02],\n",
       "                        [-4.6995e-02, -1.0491e-02, -2.0800e-02, -2.2150e-02, -1.1312e-02],\n",
       "                        [-2.9805e-02,  4.1999e-02,  4.0948e-03,  4.9419e-02,  3.9834e-02]],\n",
       "              \n",
       "                       [[-3.7727e-02, -2.3026e-02, -8.5983e-03, -4.9929e-02, -4.3906e-02],\n",
       "                        [-3.9779e-02, -3.6203e-02, -4.2256e-02, -2.7948e-02, -2.7178e-02],\n",
       "                        [-2.6496e-02, -4.9904e-02, -1.6047e-02, -1.5903e-02, -3.6104e-02],\n",
       "                        [-4.8472e-03, -5.2613e-02, -1.6160e-02,  1.3560e-03, -2.7272e-02],\n",
       "                        [-2.3120e-02, -1.3571e-02, -1.6352e-02,  1.3593e-02,  2.8237e-02]],\n",
       "              \n",
       "                       [[-2.3742e-02, -2.4666e-02, -2.5661e-02, -3.5290e-02, -2.8580e-02],\n",
       "                        [-1.9435e-02, -1.9748e-02, -5.4650e-02, -4.0979e-02, -3.5131e-02],\n",
       "                        [-4.5195e-02, -4.6308e-02, -5.4165e-02, -4.2174e-02, -1.7983e-02],\n",
       "                        [-1.6854e-02, -7.1121e-03, -1.9512e-02,  8.4906e-03, -7.9578e-03],\n",
       "                        [-3.6127e-02, -2.4441e-02, -1.5756e-04,  3.4280e-03, -2.1790e-02]],\n",
       "              \n",
       "                       ...,\n",
       "              \n",
       "                       [[-1.9953e-02, -1.4916e-02, -3.7828e-02, -4.0637e-02, -6.8972e-03],\n",
       "                        [-2.4621e-02, -3.5197e-02, -4.7185e-03,  1.2946e-03,  5.3664e-03],\n",
       "                        [ 8.6999e-03,  5.6062e-03, -1.8144e-02,  1.5563e-02,  1.4506e-02],\n",
       "                        [ 2.4569e-02,  2.1828e-02,  3.1168e-03, -3.1109e-02, -1.1308e-02],\n",
       "                        [-1.3110e-02,  3.5700e-02, -3.5804e-02, -5.3014e-02, -1.2084e-02]],\n",
       "              \n",
       "                       [[-1.9412e-02, -4.5477e-02, -5.4801e-02,  1.6034e-02, -2.9892e-02],\n",
       "                        [-1.6620e-02, -5.5189e-02, -4.7990e-03,  1.4749e-02, -1.8244e-02],\n",
       "                        [ 3.0013e-02, -2.8763e-02, -2.9360e-03,  3.3306e-02,  3.5657e-02],\n",
       "                        [ 3.0742e-02, -8.1989e-03, -2.8383e-03,  3.7069e-02, -2.8695e-02],\n",
       "                        [-7.8602e-03,  1.6982e-02,  2.1199e-02, -2.6305e-02, -3.8702e-02]],\n",
       "              \n",
       "                       [[ 1.5629e-02, -2.5867e-02,  1.0436e-02, -2.4447e-02, -2.9455e-02],\n",
       "                        [-1.1819e-02,  2.2564e-03,  2.1089e-03, -2.3077e-02,  2.7233e-03],\n",
       "                        [ 6.6128e-03, -1.2598e-02, -1.0262e-03, -1.4372e-02,  1.5987e-02],\n",
       "                        [-1.8474e-02,  1.4809e-02, -1.5160e-02, -1.8493e-02, -1.4480e-03],\n",
       "                        [-1.7755e-03,  1.8484e-02,  1.6417e-02, -2.4484e-02, -4.9747e-02]]],\n",
       "              \n",
       "              \n",
       "                      [[[-1.5633e-01, -9.5843e-02, -1.4441e-01, -2.1573e-01, -3.1645e-01],\n",
       "                        [-1.3467e-01, -2.2922e-02, -8.5851e-02, -9.9829e-02, -1.3603e-01],\n",
       "                        [-1.9010e-01, -6.8155e-02, -2.3440e-02, -1.5720e-02, -3.8484e-02],\n",
       "                        [-2.0763e-01, -1.7335e-01, -3.3766e-02, -1.8737e-02,  2.7756e-02],\n",
       "                        [-2.3115e-01, -9.3021e-02, -2.9209e-02,  1.1957e-02,  9.4258e-02]],\n",
       "              \n",
       "                       [[-8.4629e-03, -6.5604e-02, -6.2459e-02, -6.2721e-02, -1.8156e-04],\n",
       "                        [-8.1735e-03, -6.7481e-02, -4.0834e-02, -5.6713e-02, -4.4914e-02],\n",
       "                        [ 2.4459e-02, -2.5937e-03, -2.0134e-02, -1.1570e-01, -9.2214e-02],\n",
       "                        [ 3.7515e-02,  4.6547e-02, -4.1958e-02, -1.1004e-01, -9.2560e-02],\n",
       "                        [ 1.1858e-01,  9.3203e-02, -4.5941e-02, -1.5804e-01, -5.7273e-02]],\n",
       "              \n",
       "                       [[-2.3930e-02,  6.0108e-03, -5.4686e-02, -8.1296e-02, -6.6781e-02],\n",
       "                        [ 2.1615e-02,  4.8202e-03, -2.2188e-02, -6.2723e-02, -6.5227e-02],\n",
       "                        [ 4.2063e-02,  4.2663e-02,  2.4591e-02, -7.7367e-02, -3.5183e-02],\n",
       "                        [ 6.3445e-02,  9.7575e-02,  5.5914e-02, -8.9895e-02, -2.9488e-02],\n",
       "                        [ 5.9911e-02,  8.3583e-02,  6.8106e-02, -6.5249e-02, -1.3961e-02]],\n",
       "              \n",
       "                       ...,\n",
       "              \n",
       "                       [[-2.1012e-02, -1.2815e-01, -5.4483e-02, -1.4112e-02,  1.9799e-02],\n",
       "                        [-3.5172e-02, -4.9053e-02, -5.9950e-02, -6.0162e-02, -1.1529e-01],\n",
       "                        [ 3.6285e-02, -3.3965e-02, -6.5980e-02, -1.6359e-01, -3.1284e-01],\n",
       "                        [-8.0310e-02, -9.3147e-02, -1.1132e-01, -1.4011e-01, -3.1872e-01],\n",
       "                        [-1.9408e-01, -1.1834e-01, -1.6243e-01, -1.4965e-01, -1.2867e-01]],\n",
       "              \n",
       "                       [[-9.9665e-02, -1.2090e-01, -6.7511e-02, -3.5709e-02,  7.4554e-03],\n",
       "                        [-9.5070e-02, -1.3116e-01, -7.1623e-02,  6.9868e-03, -5.5390e-02],\n",
       "                        [-5.8408e-02, -1.3585e-01, -1.0407e-01, -1.8520e-01, -1.5389e-01],\n",
       "                        [-9.4837e-02, -1.6724e-01, -1.6268e-01, -2.0850e-01, -1.4371e-01],\n",
       "                        [-1.1162e-01, -9.8951e-02, -1.4441e-01, -1.6766e-01, -2.1981e-03]],\n",
       "              \n",
       "                       [[ 4.1949e-02,  7.6347e-02,  6.4851e-02,  1.3186e-02,  2.1315e-02],\n",
       "                        [ 5.4668e-02,  2.7197e-02,  5.0633e-02, -2.1751e-02,  8.8706e-04],\n",
       "                        [-2.3274e-02, -3.4252e-02, -1.3374e-02, -3.1326e-02, -8.2292e-03],\n",
       "                        [-6.3610e-02, -2.5087e-02,  2.0540e-02, -3.3237e-02, -4.4284e-02],\n",
       "                        [-8.6146e-02, -4.4100e-02, -3.0105e-02,  2.8041e-02, -4.0359e-02]]]],\n",
       "                     device='cuda:0')),\n",
       "             ('2.bias',\n",
       "              tensor([ 0.0016, -0.0050, -0.0312,  0.0451, -0.0033,  0.0299,  0.0043,  0.0132,\n",
       "                       0.0246,  0.0115, -0.0044,  0.0221, -0.0479,  0.0421,  0.0023, -0.0113,\n",
       "                       0.0468,  0.0009, -0.0395, -0.0237,  0.0164,  0.0625, -0.0078, -0.0752,\n",
       "                       0.0071, -0.0109,  0.0320, -0.0233, -0.0082, -0.0275, -0.0315, -0.0020,\n",
       "                      -0.0595,  0.0183, -0.0291, -0.0463,  0.0301,  0.0246,  0.0010,  0.0136,\n",
       "                       0.0293,  0.0552,  0.0143,  0.0214, -0.0354, -0.0097,  0.0274,  0.0056,\n",
       "                       0.0161,  0.0252, -0.0250,  0.0205, -0.0371,  0.0211, -0.0076,  0.0186,\n",
       "                       0.0380,  0.0167, -0.0520,  0.0083, -0.0066,  0.0402, -0.0307,  0.0503],\n",
       "                     device='cuda:0')),\n",
       "             ('6.weight',\n",
       "              tensor([[ 1.4069e-03, -9.9549e-03,  6.2183e-03,  ...,  7.5631e-03,\n",
       "                       -3.4264e-04,  2.9150e-03],\n",
       "                      [ 1.1410e-02,  3.4859e-03,  2.2303e-02,  ...,  2.3007e-02,\n",
       "                        4.9295e-02,  1.0179e-02],\n",
       "                      [-4.2621e-03, -3.3628e-03,  2.8276e-02,  ..., -8.2718e-02,\n",
       "                       -1.4394e-02,  6.7952e-02],\n",
       "                      ...,\n",
       "                      [-3.7660e-03, -5.2846e-03, -1.7828e-02,  ...,  1.1164e-02,\n",
       "                       -2.9034e-02, -3.2297e-02],\n",
       "                      [-4.2917e-03,  1.2647e-02, -8.9554e-03,  ..., -4.6907e-05,\n",
       "                       -1.0388e-01,  6.2165e-03],\n",
       "                      [ 9.6953e-03, -5.9169e-03,  1.6512e-02,  ..., -8.4270e-02,\n",
       "                       -6.1222e-02,  8.3839e-02]], device='cuda:0')),\n",
       "             ('6.bias',\n",
       "              tensor([-1.2716e-02,  2.2708e-02, -3.1256e-02,  1.3398e-03, -2.5622e-02,\n",
       "                      -4.7163e-02, -2.6224e-02, -1.2774e-02, -1.8600e-02, -3.9945e-02,\n",
       "                      -1.6810e-02, -4.2798e-02, -1.3094e-02, -2.6895e-02,  1.3364e-03,\n",
       "                      -3.8817e-02, -8.3463e-02, -5.8060e-03,  2.3677e-02, -1.7986e-02,\n",
       "                      -4.0910e-02,  1.9351e-02, -1.2852e-02, -2.7996e-02, -5.3750e-02,\n",
       "                      -3.2824e-02, -1.7858e-02, -1.8806e-03, -4.4213e-03, -2.1613e-02,\n",
       "                      -9.5016e-03,  4.2415e-03, -2.6228e-02, -1.5402e-02,  6.1417e-03,\n",
       "                      -7.8989e-03,  2.5326e-02, -2.4835e-02, -2.0108e-02, -1.0715e-01,\n",
       "                       2.3425e-03,  5.0298e-03,  4.9532e-03, -8.7543e-03,  1.0074e-02,\n",
       "                      -4.2191e-02, -4.2403e-02, -6.6423e-02, -1.3667e-02, -2.5662e-02,\n",
       "                      -3.0717e-02, -2.1998e-02,  1.8201e-02, -7.9899e-03, -5.4083e-04,\n",
       "                      -6.1598e-03, -3.9931e-02, -2.0821e-03,  7.7672e-03,  8.8572e-04,\n",
       "                       2.0374e-03,  8.5454e-03, -2.4899e-02, -3.9840e-03, -2.9481e-02,\n",
       "                      -8.7611e-03, -4.4783e-02, -2.1211e-02, -5.1846e-03, -7.4426e-03,\n",
       "                       1.3733e-02, -1.3045e-02,  4.2724e-03, -3.4351e-02, -1.4135e-02,\n",
       "                      -2.4974e-02, -9.8398e-03, -7.4772e-03,  2.6215e-02, -7.7853e-03,\n",
       "                       1.4963e-02, -2.3142e-02, -1.1140e-01, -1.8179e-02, -8.0642e-02,\n",
       "                      -1.3034e-02, -2.6442e-02, -1.4213e-02,  1.8056e-02,  1.7259e-03,\n",
       "                       1.2932e-02, -2.2106e-02,  1.1504e-02, -3.2715e-02,  1.8028e-03,\n",
       "                      -1.9957e-04, -1.3590e-02, -1.1064e-04, -1.0211e-02, -6.1230e-03,\n",
       "                      -4.2257e-03, -3.3119e-02,  1.6644e-02,  4.4766e-03, -3.6009e-03,\n",
       "                       2.0790e-04, -7.2885e-03, -3.4082e-02, -1.9529e-02, -3.6285e-03,\n",
       "                      -2.9298e-02, -4.1562e-03,  8.8274e-04, -7.4252e-03, -7.4836e-03,\n",
       "                       1.2933e-02, -7.4549e-03, -2.2731e-03, -5.0474e-03, -3.5810e-02,\n",
       "                      -2.6480e-02, -4.1780e-03, -8.5092e-03, -2.4047e-03, -4.3464e-02,\n",
       "                      -3.3177e-02, -8.9771e-03, -8.9238e-03], device='cuda:0')),\n",
       "             ('9.weight',\n",
       "              tensor([[ 0.0248, -0.0935, -0.0619,  ..., -0.1711, -0.0661,  0.0249],\n",
       "                      [-0.0052,  0.0575,  0.0198,  ...,  0.0483, -0.0594,  0.0954],\n",
       "                      [-0.0009, -0.1759, -0.0517,  ...,  0.0424, -0.0566,  0.0504],\n",
       "                      ...,\n",
       "                      [ 0.0535,  0.0083, -0.1175,  ...,  0.0458,  0.0821, -0.1067],\n",
       "                      [-0.0678, -0.0294, -0.0547,  ..., -0.1807, -0.0765, -0.1075],\n",
       "                      [ 0.0165, -0.0711,  0.0354,  ..., -0.1951, -0.1042, -0.1024]],\n",
       "                     device='cuda:0')),\n",
       "             ('9.bias',\n",
       "              tensor([ 0.0034,  0.0091,  0.0069, -0.0139, -0.1150,  0.0569, -0.0561,  0.0831,\n",
       "                      -0.0259, -0.0059], device='cuda:0'))])"
      ]
     },
     "execution_count": 29,
     "metadata": {},
     "output_type": "execute_result"
    }
   ],
   "source": [
    "model.state_dict()"
   ]
  },
  {
   "cell_type": "code",
   "execution_count": 30,
   "id": "mineral-glance",
   "metadata": {},
   "outputs": [],
   "source": [
    "torch.save(model2, 'saved_model/minst_model_class.pth')\n",
    "torch.save(model2.state_dict(), 'saved_model/mnist_model_class_weights.pth')"
   ]
  },
  {
   "cell_type": "code",
   "execution_count": null,
   "id": "advisory-prisoner",
   "metadata": {},
   "outputs": [],
   "source": []
  }
 ],
 "metadata": {
  "kernelspec": {
   "display_name": "Python 3 (ipykernel)",
   "language": "python",
   "name": "python3"
  },
  "language_info": {
   "codemirror_mode": {
    "name": "ipython",
    "version": 3
   },
   "file_extension": ".py",
   "mimetype": "text/x-python",
   "name": "python",
   "nbconvert_exporter": "python",
   "pygments_lexer": "ipython3",
   "version": "3.9.7"
  }
 },
 "nbformat": 4,
 "nbformat_minor": 5
}
