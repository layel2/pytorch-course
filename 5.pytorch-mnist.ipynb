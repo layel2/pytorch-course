{
 "cells": [
  {
   "cell_type": "markdown",
   "id": "metropolitan-warrior",
   "metadata": {},
   "source": [
    "# Pytorch MNIST\n",
    "---\n",
    "by Pranpaveen Lay.\n",
    "\n",
    "[![Open In Colab](https://colab.research.google.com/assets/colab-badge.svg)](https://colab.research.google.com/github/layel2/pytorch-course/blob/main/5.pytorch-mnist.ipynb)"
   ]
  },
  {
   "cell_type": "code",
   "execution_count": 1,
   "id": "beneficial-floor",
   "metadata": {},
   "outputs": [],
   "source": [
    "import numpy as np\n",
    "from matplotlib import pyplot as plt\n",
    "import torch\n",
    "import torchvision"
   ]
  },
  {
   "cell_type": "code",
   "execution_count": 2,
   "id": "interim-philip",
   "metadata": {},
   "outputs": [
    {
     "data": {
      "text/plain": [
       "'cuda'"
      ]
     },
     "execution_count": 2,
     "metadata": {},
     "output_type": "execute_result"
    }
   ],
   "source": [
    "device = 'cuda' if torch.cuda.is_available() else 'cpu'\n",
    "device"
   ]
  },
  {
   "cell_type": "markdown",
   "id": "wooden-humanity",
   "metadata": {},
   "source": [
    "## Load Data"
   ]
  },
  {
   "cell_type": "code",
   "execution_count": 3,
   "id": "clean-company",
   "metadata": {},
   "outputs": [],
   "source": [
    "data_train = torchvision.datasets.MNIST('./data',train=True,download=True,transform=torchvision.transforms.ToTensor())\n",
    "data_test = torchvision.datasets.MNIST('./data',train=False,download=True,transform=torchvision.transforms.ToTensor())"
   ]
  },
  {
   "cell_type": "code",
   "execution_count": 4,
   "id": "computational-arbor",
   "metadata": {},
   "outputs": [
    {
     "data": {
      "text/plain": [
       "(Dataset MNIST\n",
       "     Number of datapoints: 60000\n",
       "     Root location: ./data\n",
       "     Split: Train\n",
       "     StandardTransform\n",
       " Transform: ToTensor(),\n",
       " Dataset MNIST\n",
       "     Number of datapoints: 10000\n",
       "     Root location: ./data\n",
       "     Split: Test\n",
       "     StandardTransform\n",
       " Transform: ToTensor())"
      ]
     },
     "execution_count": 4,
     "metadata": {},
     "output_type": "execute_result"
    }
   ],
   "source": [
    "data_train,data_test"
   ]
  },
  {
   "cell_type": "code",
   "execution_count": 5,
   "id": "sharp-capitol",
   "metadata": {},
   "outputs": [
    {
     "data": {
      "text/plain": [
       "torch.Size([60000, 28, 28])"
      ]
     },
     "execution_count": 5,
     "metadata": {},
     "output_type": "execute_result"
    }
   ],
   "source": [
    "data_train.data.shape"
   ]
  },
  {
   "cell_type": "code",
   "execution_count": 9,
   "id": "incorporated-tucson",
   "metadata": {},
   "outputs": [],
   "source": [
    "loader_train = torch.utils.data.DataLoader(data_train,batch_size=64)\n",
    "loader_test = torch.utils.data.DataLoader(data_test,batch_size=64)"
   ]
  },
  {
   "cell_type": "code",
   "execution_count": 11,
   "id": "adolescent-fourth",
   "metadata": {},
   "outputs": [],
   "source": [
    "#examples = enumerate(loder_test)\n",
    "for example_data, example_targets in loader_test :\n",
    "    break"
   ]
  },
  {
   "cell_type": "code",
   "execution_count": 12,
   "id": "worldwide-quilt",
   "metadata": {},
   "outputs": [
    {
     "data": {
      "text/plain": [
       "torch.Size([64, 1, 28, 28])"
      ]
     },
     "execution_count": 12,
     "metadata": {},
     "output_type": "execute_result"
    }
   ],
   "source": [
    "example_data.shape"
   ]
  },
  {
   "cell_type": "code",
   "execution_count": 13,
   "id": "greenhouse-florence",
   "metadata": {},
   "outputs": [
    {
     "data": {
      "text/plain": [
       "<matplotlib.image.AxesImage at 0x2dad8becf40>"
      ]
     },
     "execution_count": 13,
     "metadata": {},
     "output_type": "execute_result"
    },
    {
     "data": {
      "image/png": "[encoded data removed]",
      "text/plain": [
       "<Figure size 432x288 with 1 Axes>"
      ]
     },
     "metadata": {
      "needs_background": "light"
     },
     "output_type": "display_data"
    }
   ],
   "source": [
    "plt.imshow(example_data[0][0])"
   ]
  },
  {
   "cell_type": "markdown",
   "id": "available-natural",
   "metadata": {},
   "source": [
    "## Building model"
   ]
  },
  {
   "cell_type": "code",
   "execution_count": 14,
   "id": "binary-evans",
   "metadata": {},
   "outputs": [],
   "source": [
    "import torch.nn as nn\n",
    "import torch.nn.functional as F\n",
    "import torch.optim as optim"
   ]
  },
  {
   "cell_type": "markdown",
   "id": "solar-canberra",
   "metadata": {},
   "source": [
    "### Sequential"
   ]
  },
  {
   "cell_type": "code",
   "execution_count": 15,
   "id": "sublime-chorus",
   "metadata": {},
   "outputs": [],
   "source": [
    "model = nn.Sequential(\n",
    "            nn.Conv2d(in_channels=1, out_channels=64, kernel_size=5, stride=1, padding=2),\n",
    "            nn.ReLU(),\n",
    "            nn.Conv2d(in_channels=64, out_channels=64, kernel_size=5, stride=2),\n",
    "            nn.ReLU(),\n",
    "            nn.Dropout(0.25),\n",
    "            nn.Flatten(),\n",
    "            nn.Linear(in_features=64 * 12 * 12, out_features=128),\n",
    "            nn.ReLU(),\n",
    "            nn.Dropout(0.5),\n",
    "            nn.Linear(in_features=128, out_features=10),\n",
    "            nn.LogSoftmax()\n",
    "        )"
   ]
  },
  {
   "cell_type": "markdown",
   "id": "piano-westminster",
   "metadata": {},
   "source": [
    "### Model Class"
   ]
  },
  {
   "cell_type": "code",
   "execution_count": 16,
   "id": "english-cancer",
   "metadata": {},
   "outputs": [],
   "source": [
    "class mnistmodel_2(nn.Module):\n",
    "    def __init__(self):\n",
    "        super().__init__()\n",
    "        self.conv1 = nn.Conv2d(in_channels=1, out_channels=64, kernel_size=5, stride=1, padding=2)\n",
    "        self.conv2 = nn.Conv2d(in_channels=64, out_channels=64, kernel_size=5, stride=2)\n",
    "        self.dense1 = nn.Linear(in_features=64 * 12 * 12, out_features=128)\n",
    "        self.dense2 = nn.Linear(in_features=128, out_features=10)\n",
    "\n",
    "    def forward(self, x):\n",
    "        x = F.relu(self.conv1(x))\n",
    "        x = F.relu(self.conv2(x))\n",
    "        x = F.dropout(x, 0.25)\n",
    "        x = nn.Flatten()(x)\n",
    "        x = F.relu(self.dense1(x))\n",
    "        x = F.dropout(x, 0.5)\n",
    "        x = self.dense2(x)\n",
    "        x = F.log_softmax(x)\n",
    "\n",
    "        return x"
   ]
  },
  {
   "cell_type": "code",
   "execution_count": 17,
   "id": "proper-mercury",
   "metadata": {},
   "outputs": [],
   "source": [
    "model2 = mnistmodel_2()"
   ]
  },
  {
   "cell_type": "code",
   "execution_count": 98,
   "id": "plastic-blade",
   "metadata": {},
   "outputs": [],
   "source": [
    "from torchsummary import summary"
   ]
  },
  {
   "cell_type": "code",
   "execution_count": 99,
   "id": "premium-bennett",
   "metadata": {},
   "outputs": [
    {
     "name": "stdout",
     "output_type": "stream",
     "text": [
      "----------------------------------------------------------------\n",
      "        Layer (type)               Output Shape         Param #\n",
      "================================================================\n",
      "            Conv2d-1           [-1, 64, 28, 28]           1,664\n",
      "              ReLU-2           [-1, 64, 28, 28]               0\n",
      "            Conv2d-3           [-1, 64, 12, 12]         102,464\n",
      "              ReLU-4           [-1, 64, 12, 12]               0\n",
      "           Dropout-5           [-1, 64, 12, 12]               0\n",
      "           Flatten-6                 [-1, 9216]               0\n",
      "            Linear-7                  [-1, 128]       1,179,776\n",
      "              ReLU-8                  [-1, 128]               0\n",
      "           Dropout-9                  [-1, 128]               0\n",
      "           Linear-10                   [-1, 10]           1,290\n",
      "       LogSoftmax-11                   [-1, 10]               0\n",
      "================================================================\n",
      "Total params: 1,285,194\n",
      "Trainable params: 1,285,194\n",
      "Non-trainable params: 0\n",
      "----------------------------------------------------------------\n",
      "Input size (MB): 0.00\n",
      "Forward/backward pass size (MB): 1.05\n",
      "Params size (MB): 4.90\n",
      "Estimated Total Size (MB): 5.96\n",
      "----------------------------------------------------------------\n"
     ]
    }
   ],
   "source": [
    "summary(model.to(device),(1,28,28))"
   ]
  },
  {
   "cell_type": "code",
   "execution_count": 100,
   "id": "numeric-montana",
   "metadata": {},
   "outputs": [
    {
     "name": "stdout",
     "output_type": "stream",
     "text": [
      "----------------------------------------------------------------\n",
      "        Layer (type)               Output Shape         Param #\n",
      "================================================================\n",
      "            Conv2d-1           [-1, 64, 28, 28]           1,664\n",
      "            Conv2d-2           [-1, 64, 12, 12]         102,464\n",
      "            Linear-3                  [-1, 128]       1,179,776\n",
      "            Linear-4                   [-1, 10]           1,290\n",
      "================================================================\n",
      "Total params: 1,285,194\n",
      "Trainable params: 1,285,194\n",
      "Non-trainable params: 0\n",
      "----------------------------------------------------------------\n",
      "Input size (MB): 0.00\n",
      "Forward/backward pass size (MB): 0.45\n",
      "Params size (MB): 4.90\n",
      "Estimated Total Size (MB): 5.36\n",
      "----------------------------------------------------------------\n"
     ]
    },
    {
     "name": "stderr",
     "output_type": "stream",
     "text": [
      "<ipython-input-96-707fbf24421e>:17: UserWarning: Implicit dimension choice for log_softmax has been deprecated. Change the call to include dim=X as an argument.\n",
      "  x = F.log_softmax(x)\n"
     ]
    }
   ],
   "source": [
    "summary(model2.to(device),(1,28,28))"
   ]
  },
  {
   "cell_type": "markdown",
   "id": "surrounded-sigma",
   "metadata": {},
   "source": [
    "## Define function"
   ]
  },
  {
   "cell_type": "code",
   "execution_count": 101,
   "id": "specific-century",
   "metadata": {},
   "outputs": [],
   "source": [
    "def test(model,loader,verbose=True):\n",
    "    model.eval()\n",
    "    test_loss = 0\n",
    "    correct = 0\n",
    "    with torch.no_grad():\n",
    "        for data, target in loader:\n",
    "            data = data.to(device)\n",
    "            target = target.to(device)\n",
    "            output = model(data)\n",
    "            test_loss += F.nll_loss(output, target, size_average=False).item()\n",
    "            pred = output.data.max(1, keepdim=True)[1]\n",
    "            correct += pred.eq(target.data.view_as(pred)).sum()\n",
    "        test_loss /= len(loader.dataset)\n",
    "        test_acc = 100. * correct / len(loader.dataset)\n",
    "        if verbose:\n",
    "            print(f'\\nTest set: Avg. loss: {test_loss:.4f}, Accuracy: {correct}/{len(loader.dataset)} ({test_acc:.2f}%)\\n')\n",
    "        return test_loss, test_acc.item()"
   ]
  },
  {
   "cell_type": "code",
   "execution_count": 102,
   "id": "individual-clerk",
   "metadata": {},
   "outputs": [
    {
     "name": "stdout",
     "output_type": "stream",
     "text": [
      "\n",
      "Test set: Avg. loss: 2.2999, Accuracy: 1112/10000 (11.12%)\n",
      "\n"
     ]
    },
    {
     "data": {
      "text/plain": [
       "(2.299892060852051, 11.119999885559082)"
      ]
     },
     "execution_count": 102,
     "metadata": {},
     "output_type": "execute_result"
    }
   ],
   "source": [
    "test(model,loader_test)"
   ]
  },
  {
   "cell_type": "code",
   "execution_count": 103,
   "id": "unsigned-request",
   "metadata": {},
   "outputs": [],
   "source": [
    "train_losses = []\n",
    "test_losses = []\n",
    "n_epochs = 10"
   ]
  },
  {
   "cell_type": "code",
   "execution_count": 104,
   "id": "fitted-variance",
   "metadata": {},
   "outputs": [],
   "source": [
    "optimizer = optim.Adam(model.parameters(),lr=0.001)"
   ]
  },
  {
   "cell_type": "code",
   "execution_count": 105,
   "id": "beneficial-sauce",
   "metadata": {},
   "outputs": [],
   "source": [
    "loss_fn = nn.NLLLoss()"
   ]
  },
  {
   "cell_type": "code",
   "execution_count": 106,
   "id": "careful-consultation",
   "metadata": {},
   "outputs": [],
   "source": [
    "log_interval = 100\n",
    "def train(epoch,model=model,loader_train=loader_train, loss_fn = loss_fn):\n",
    "    model.train()\n",
    "    for batch_idx, (data, target) in enumerate(loder_train):\n",
    "        optimizer.zero_grad()\n",
    "        data = data.to(device)\n",
    "        target = target.to(device)\n",
    "        output = model(data)\n",
    "        loss = loss_fn(output, target)\n",
    "        loss.backward()\n",
    "        optimizer.step()\n",
    "        if batch_idx % log_interval == 0:\n",
    "            print('Train Epoch: {} [{}/{} ({:.0f}%)]\\tLoss: {:.6f}'.format(\n",
    "                epoch, batch_idx * len(data), len(loder_train.dataset),\n",
    "                100. * batch_idx / len(loder_train), loss.item()))\n",
    "            #train_losses.append(loss.item())\n",
    "    train_loss,train_acc = test(model,loader_train, verbose=False)\n",
    "    test_loss,test_acc = test(model,loader_test, verbose=False)\n",
    "    train_losses.append([train_loss,train_acc])\n",
    "    test_losses.append([test_loss,test_acc])\n",
    "    print(f\"epoch {epoch} : train_loss {train_loss:.6f}, train_acc {train_acc:.2f}, eval_loss {test_loss:.6f}, eval_acc {test_acc:.2f}\")\n"
   ]
  },
  {
   "cell_type": "code",
   "execution_count": 109,
   "id": "asian-speaking",
   "metadata": {},
   "outputs": [
    {
     "name": "stdout",
     "output_type": "stream",
     "text": [
      "Train Epoch: 0 [0/60000 (0%)]\tLoss: 2.299212\n",
      "Train Epoch: 0 [6400/60000 (11%)]\tLoss: 0.401241\n",
      "Train Epoch: 0 [12800/60000 (21%)]\tLoss: 0.209234\n",
      "Train Epoch: 0 [19200/60000 (32%)]\tLoss: 0.203193\n",
      "Train Epoch: 0 [25600/60000 (43%)]\tLoss: 0.124270\n",
      "Train Epoch: 0 [32000/60000 (53%)]\tLoss: 0.170510\n",
      "Train Epoch: 0 [38400/60000 (64%)]\tLoss: 0.056962\n",
      "Train Epoch: 0 [44800/60000 (75%)]\tLoss: 0.117220\n",
      "Train Epoch: 0 [51200/60000 (85%)]\tLoss: 0.171370\n",
      "Train Epoch: 0 [57600/60000 (96%)]\tLoss: 0.108842\n",
      "epoch 0 : train_loss 0.052485, train_acc 98.40, eval_loss 0.050604, eval_acc 98.25\n",
      "Train Epoch: 1 [0/60000 (0%)]\tLoss: 0.065228\n",
      "Train Epoch: 1 [6400/60000 (11%)]\tLoss: 0.148472\n",
      "Train Epoch: 1 [12800/60000 (21%)]\tLoss: 0.061367\n",
      "Train Epoch: 1 [19200/60000 (32%)]\tLoss: 0.094216\n",
      "Train Epoch: 1 [25600/60000 (43%)]\tLoss: 0.027810\n",
      "Train Epoch: 1 [32000/60000 (53%)]\tLoss: 0.063412\n",
      "Train Epoch: 1 [38400/60000 (64%)]\tLoss: 0.119736\n",
      "Train Epoch: 1 [44800/60000 (75%)]\tLoss: 0.084769\n",
      "Train Epoch: 1 [51200/60000 (85%)]\tLoss: 0.186763\n",
      "Train Epoch: 1 [57600/60000 (96%)]\tLoss: 0.107213\n",
      "epoch 1 : train_loss 0.030856, train_acc 99.04, eval_loss 0.036362, eval_acc 98.85\n",
      "Train Epoch: 2 [0/60000 (0%)]\tLoss: 0.020010\n",
      "Train Epoch: 2 [6400/60000 (11%)]\tLoss: 0.185283\n",
      "Train Epoch: 2 [12800/60000 (21%)]\tLoss: 0.020445\n",
      "Train Epoch: 2 [19200/60000 (32%)]\tLoss: 0.075233\n",
      "Train Epoch: 2 [25600/60000 (43%)]\tLoss: 0.057054\n",
      "Train Epoch: 2 [32000/60000 (53%)]\tLoss: 0.086145\n",
      "Train Epoch: 2 [38400/60000 (64%)]\tLoss: 0.045321\n",
      "Train Epoch: 2 [44800/60000 (75%)]\tLoss: 0.052299\n",
      "Train Epoch: 2 [51200/60000 (85%)]\tLoss: 0.048564\n",
      "Train Epoch: 2 [57600/60000 (96%)]\tLoss: 0.090760\n",
      "epoch 2 : train_loss 0.018262, train_acc 99.44, eval_loss 0.026509, eval_acc 99.11\n",
      "Train Epoch: 3 [0/60000 (0%)]\tLoss: 0.020872\n",
      "Train Epoch: 3 [6400/60000 (11%)]\tLoss: 0.062029\n",
      "Train Epoch: 3 [12800/60000 (21%)]\tLoss: 0.104049\n",
      "Train Epoch: 3 [19200/60000 (32%)]\tLoss: 0.048968\n",
      "Train Epoch: 3 [25600/60000 (43%)]\tLoss: 0.025592\n",
      "Train Epoch: 3 [32000/60000 (53%)]\tLoss: 0.005206\n",
      "Train Epoch: 3 [38400/60000 (64%)]\tLoss: 0.024047\n",
      "Train Epoch: 3 [44800/60000 (75%)]\tLoss: 0.040810\n",
      "Train Epoch: 3 [51200/60000 (85%)]\tLoss: 0.103872\n",
      "Train Epoch: 3 [57600/60000 (96%)]\tLoss: 0.031172\n",
      "epoch 3 : train_loss 0.014593, train_acc 99.56, eval_loss 0.025155, eval_acc 99.20\n",
      "Train Epoch: 4 [0/60000 (0%)]\tLoss: 0.030174\n",
      "Train Epoch: 4 [6400/60000 (11%)]\tLoss: 0.108567\n",
      "Train Epoch: 4 [12800/60000 (21%)]\tLoss: 0.064453\n",
      "Train Epoch: 4 [19200/60000 (32%)]\tLoss: 0.149745\n",
      "Train Epoch: 4 [25600/60000 (43%)]\tLoss: 0.006963\n",
      "Train Epoch: 4 [32000/60000 (53%)]\tLoss: 0.110270\n",
      "Train Epoch: 4 [38400/60000 (64%)]\tLoss: 0.007313\n",
      "Train Epoch: 4 [44800/60000 (75%)]\tLoss: 0.069226\n",
      "Train Epoch: 4 [51200/60000 (85%)]\tLoss: 0.121712\n",
      "Train Epoch: 4 [57600/60000 (96%)]\tLoss: 0.005880\n",
      "epoch 4 : train_loss 0.013150, train_acc 99.57, eval_loss 0.030888, eval_acc 99.08\n",
      "Train Epoch: 5 [0/60000 (0%)]\tLoss: 0.072270\n",
      "Train Epoch: 5 [6400/60000 (11%)]\tLoss: 0.009546\n",
      "Train Epoch: 5 [12800/60000 (21%)]\tLoss: 0.048336\n",
      "Train Epoch: 5 [19200/60000 (32%)]\tLoss: 0.069283\n",
      "Train Epoch: 5 [25600/60000 (43%)]\tLoss: 0.007516\n",
      "Train Epoch: 5 [32000/60000 (53%)]\tLoss: 0.076141\n",
      "Train Epoch: 5 [38400/60000 (64%)]\tLoss: 0.038068\n",
      "Train Epoch: 5 [44800/60000 (75%)]\tLoss: 0.015632\n",
      "Train Epoch: 5 [51200/60000 (85%)]\tLoss: 0.057873\n",
      "Train Epoch: 5 [57600/60000 (96%)]\tLoss: 0.046409\n",
      "epoch 5 : train_loss 0.009652, train_acc 99.67, eval_loss 0.028064, eval_acc 99.12\n",
      "Train Epoch: 6 [0/60000 (0%)]\tLoss: 0.007363\n",
      "Train Epoch: 6 [6400/60000 (11%)]\tLoss: 0.066010\n",
      "Train Epoch: 6 [12800/60000 (21%)]\tLoss: 0.071815\n",
      "Train Epoch: 6 [19200/60000 (32%)]\tLoss: 0.000878\n",
      "Train Epoch: 6 [25600/60000 (43%)]\tLoss: 0.002313\n",
      "Train Epoch: 6 [32000/60000 (53%)]\tLoss: 0.005538\n",
      "Train Epoch: 6 [38400/60000 (64%)]\tLoss: 0.005078\n",
      "Train Epoch: 6 [44800/60000 (75%)]\tLoss: 0.012580\n",
      "Train Epoch: 6 [51200/60000 (85%)]\tLoss: 0.082806\n",
      "Train Epoch: 6 [57600/60000 (96%)]\tLoss: 0.001677\n",
      "epoch 6 : train_loss 0.009661, train_acc 99.68, eval_loss 0.029451, eval_acc 99.08\n",
      "Train Epoch: 7 [0/60000 (0%)]\tLoss: 0.027846\n",
      "Train Epoch: 7 [6400/60000 (11%)]\tLoss: 0.003372\n",
      "Train Epoch: 7 [12800/60000 (21%)]\tLoss: 0.020203\n",
      "Train Epoch: 7 [19200/60000 (32%)]\tLoss: 0.054774\n",
      "Train Epoch: 7 [25600/60000 (43%)]\tLoss: 0.035790\n",
      "Train Epoch: 7 [32000/60000 (53%)]\tLoss: 0.004957\n",
      "Train Epoch: 7 [38400/60000 (64%)]\tLoss: 0.000743\n",
      "Train Epoch: 7 [44800/60000 (75%)]\tLoss: 0.006196\n",
      "Train Epoch: 7 [51200/60000 (85%)]\tLoss: 0.042697\n",
      "Train Epoch: 7 [57600/60000 (96%)]\tLoss: 0.004415\n",
      "epoch 7 : train_loss 0.007409, train_acc 99.77, eval_loss 0.034621, eval_acc 98.98\n",
      "Train Epoch: 8 [0/60000 (0%)]\tLoss: 0.139265\n",
      "Train Epoch: 8 [6400/60000 (11%)]\tLoss: 0.031355\n",
      "Train Epoch: 8 [12800/60000 (21%)]\tLoss: 0.025244\n",
      "Train Epoch: 8 [19200/60000 (32%)]\tLoss: 0.024633\n",
      "Train Epoch: 8 [25600/60000 (43%)]\tLoss: 0.009778\n",
      "Train Epoch: 8 [32000/60000 (53%)]\tLoss: 0.036829\n",
      "Train Epoch: 8 [38400/60000 (64%)]\tLoss: 0.000581\n",
      "Train Epoch: 8 [44800/60000 (75%)]\tLoss: 0.047253\n",
      "Train Epoch: 8 [51200/60000 (85%)]\tLoss: 0.094891\n",
      "Train Epoch: 8 [57600/60000 (96%)]\tLoss: 0.001663\n",
      "epoch 8 : train_loss 0.005496, train_acc 99.81, eval_loss 0.029828, eval_acc 99.17\n",
      "Train Epoch: 9 [0/60000 (0%)]\tLoss: 0.001546\n",
      "Train Epoch: 9 [6400/60000 (11%)]\tLoss: 0.084045\n",
      "Train Epoch: 9 [12800/60000 (21%)]\tLoss: 0.099803\n",
      "Train Epoch: 9 [19200/60000 (32%)]\tLoss: 0.010170\n",
      "Train Epoch: 9 [25600/60000 (43%)]\tLoss: 0.062821\n",
      "Train Epoch: 9 [32000/60000 (53%)]\tLoss: 0.003005\n",
      "Train Epoch: 9 [38400/60000 (64%)]\tLoss: 0.005330\n",
      "Train Epoch: 9 [44800/60000 (75%)]\tLoss: 0.005407\n",
      "Train Epoch: 9 [51200/60000 (85%)]\tLoss: 0.084165\n",
      "Train Epoch: 9 [57600/60000 (96%)]\tLoss: 0.014944\n",
      "epoch 9 : train_loss 0.007029, train_acc 99.76, eval_loss 0.033789, eval_acc 99.07\n"
     ]
    }
   ],
   "source": [
    "for epoch in range(n_epochs):\n",
    "    train(epoch)"
   ]
  },
  {
   "cell_type": "code",
   "execution_count": 118,
   "id": "moral-trial",
   "metadata": {},
   "outputs": [
    {
     "data": {
      "text/plain": [
       "Text(0.5, 1.0, 'Loss')"
      ]
     },
     "execution_count": 118,
     "metadata": {},
     "output_type": "execute_result"
    },
    {
     "data": {
      "image/png": "[encoded data removed]",
      "text/plain": [
       "<Figure size 432x288 with 1 Axes>"
      ]
     },
     "metadata": {
      "needs_background": "light"
     },
     "output_type": "display_data"
    }
   ],
   "source": [
    "plt.plot(np.array(train_losses)[:,0])\n",
    "plt.plot(np.array(test_losses)[:,0])\n",
    "plt.legend(['train loss','test loss'])\n",
    "plt.title('Loss')"
   ]
  },
  {
   "cell_type": "code",
   "execution_count": 119,
   "id": "micro-boston",
   "metadata": {},
   "outputs": [
    {
     "data": {
      "text/plain": [
       "Text(0.5, 1.0, 'Accuracy')"
      ]
     },
     "execution_count": 119,
     "metadata": {},
     "output_type": "execute_result"
    },
    {
     "data": {
      "image/png": "[encoded data removed]",
      "text/plain": [
       "<Figure size 432x288 with 1 Axes>"
      ]
     },
     "metadata": {
      "needs_background": "light"
     },
     "output_type": "display_data"
    }
   ],
   "source": [
    "plt.plot(np.array(train_losses)[:,1])\n",
    "plt.plot(np.array(test_losses)[:,1])\n",
    "plt.legend(['train acc','test acc'])\n",
    "plt.title('Accuracy')"
   ]
  },
  {
   "cell_type": "markdown",
   "id": "filled-spectacular",
   "metadata": {},
   "source": [
    "## save model"
   ]
  },
  {
   "cell_type": "code",
   "execution_count": 120,
   "id": "prostate-paintball",
   "metadata": {},
   "outputs": [],
   "source": [
    "!mkdir saved_model"
   ]
  },
  {
   "cell_type": "code",
   "execution_count": 122,
   "id": "pointed-scene",
   "metadata": {},
   "outputs": [],
   "source": [
    "torch.save(model, 'saved_model/minst_model.pth')"
   ]
  },
  {
   "cell_type": "code",
   "execution_count": 123,
   "id": "overhead-journalist",
   "metadata": {},
   "outputs": [],
   "source": [
    "torch.save(model.state_dict(), 'saved_model/mnist_model_weights.pth')"
   ]
  },
  {
   "cell_type": "code",
   "execution_count": 124,
   "id": "forty-bride",
   "metadata": {},
   "outputs": [
    {
     "data": {
      "text/plain": [
       "OrderedDict([('0.weight',\n",
       "              tensor([[[[-2.7283e-02, -6.6340e-03, -9.0487e-02, -1.7480e-01, -2.1224e-02],\n",
       "                        [ 9.0531e-03, -2.3170e-01,  1.3217e-01, -2.5431e-01, -8.1370e-02],\n",
       "                        [-6.5894e-02,  4.3826e-02, -2.9531e-02, -2.6834e-01,  5.7490e-02],\n",
       "                        [ 8.1304e-02,  5.8267e-02,  9.4254e-02,  4.7415e-02, -2.4879e-02],\n",
       "                        [ 7.2475e-02, -3.2886e-01,  1.8593e-02, -8.5981e-02, -6.5493e-02]]],\n",
       "              \n",
       "              \n",
       "                      [[[-2.4836e-01, -2.0884e-01,  2.7005e-02,  9.1598e-02,  1.5290e-01],\n",
       "                        [-2.9212e-01, -1.8719e-01, -3.6046e-02,  2.4512e-01, -1.7612e-01],\n",
       "                        [-6.9641e-02, -3.9524e-02,  2.7041e-02,  2.1317e-02, -4.3204e-02],\n",
       "                        [-2.3623e-01, -2.3357e-01, -2.9267e-02,  4.8875e-02,  8.9480e-02],\n",
       "                        [-1.8332e-01, -2.6925e-01, -2.6743e-01, -2.7717e-01, -1.2343e-01]]],\n",
       "              \n",
       "              \n",
       "                      [[[ 2.2021e-01, -4.6492e-02, -4.3158e-02, -1.2806e-01, -1.8660e-01],\n",
       "                        [ 3.2949e-02,  4.9016e-02,  1.3091e-01, -4.5089e-02, -2.9034e-01],\n",
       "                        [ 2.0571e-01,  1.7337e-01, -1.7756e-01, -2.4032e-01, -1.7479e-01],\n",
       "                        [ 1.7799e-01,  2.2369e-01, -2.0861e-01,  6.4786e-02, -1.0180e-01],\n",
       "                        [ 2.2659e-01,  1.6595e-01, -9.8107e-02, -1.6209e-01, -1.7835e-02]]],\n",
       "              \n",
       "              \n",
       "                      ...,\n",
       "              \n",
       "              \n",
       "                      [[[ 1.6172e-01,  9.6617e-02, -7.2431e-02, -1.4672e-01, -2.4695e-01],\n",
       "                        [-1.2460e-01,  2.2184e-01,  2.0136e-01, -1.3821e-01, -4.1703e-01],\n",
       "                        [-3.2570e-01, -1.7954e-01,  1.7562e-01, -1.8422e-01,  1.5368e-01],\n",
       "                        [-3.4668e-01, -2.0142e-01,  4.6328e-02,  7.0080e-02,  1.9823e-01],\n",
       "                        [ 3.9240e-03, -1.1882e-01, -6.9049e-02,  9.4690e-02, -6.5909e-02]]],\n",
       "              \n",
       "              \n",
       "                      [[[-8.6311e-02, -6.0691e-02, -1.2019e-01,  1.2405e-01,  1.2216e-01],\n",
       "                        [ 1.0207e-01, -2.0548e-01,  4.8422e-02,  1.7951e-02,  5.2892e-02],\n",
       "                        [ 9.7705e-02, -9.8104e-02,  1.5381e-02, -1.7486e-01,  1.0467e-01],\n",
       "                        [ 1.4601e-01,  5.7885e-02, -2.9626e-01, -1.8390e-01,  1.4357e-01],\n",
       "                        [ 6.6091e-02,  1.6385e-01,  1.2222e-01,  1.0517e-01, -3.6284e-02]]],\n",
       "              \n",
       "              \n",
       "                      [[[-2.4722e-01,  4.8141e-02,  9.9466e-02, -7.6239e-02, -1.4047e-01],\n",
       "                        [ 7.5439e-02,  2.2699e-02, -1.2426e-01, -2.7492e-03, -2.7336e-01],\n",
       "                        [-3.2985e-02,  1.2448e-01,  1.8618e-01,  1.3143e-01, -2.7250e-01],\n",
       "                        [ 4.6948e-02, -2.3646e-01,  1.7324e-01, -1.4342e-01, -5.1207e-02],\n",
       "                        [-1.9435e-04,  1.0380e-01,  1.2254e-01,  1.4417e-01,  1.0522e-01]]]],\n",
       "                     device='cuda:0')),\n",
       "             ('0.bias',\n",
       "              tensor([-0.0643, -0.0107, -0.2225, -0.0142, -0.0283, -0.2175, -0.1754, -0.0951,\n",
       "                      -0.0648, -0.0428, -0.1062, -0.1173,  0.0204, -0.0636,  0.0286, -0.0334,\n",
       "                       0.0951, -0.1366, -0.0290, -0.1313,  0.0395, -0.2870, -0.2340,  0.0580,\n",
       "                      -0.0277, -0.2100, -0.0095, -0.2394, -0.3038, -0.0401, -0.0877, -0.1014,\n",
       "                       0.0602, -0.1640,  0.0321, -0.2135, -0.0584, -0.3295, -0.0119, -0.1885,\n",
       "                      -0.1182, -0.0151, -0.0300, -0.1580, -0.0342, -0.0145, -0.2835, -0.0008,\n",
       "                      -0.1582, -0.2294, -0.0341, -0.1173,  0.0531, -0.2528, -0.1511, -0.0803,\n",
       "                      -0.0337, -0.0235,  0.0320, -0.0320, -0.0105, -0.0160, -0.3628, -0.1223],\n",
       "                     device='cuda:0')),\n",
       "             ('2.weight',\n",
       "              tensor([[[[ 1.1730e-01, -2.0357e-02, -3.0191e-02,  1.8126e-02, -3.7725e-02],\n",
       "                        [ 4.6278e-02,  7.7100e-03,  3.9971e-02,  2.5930e-02, -4.0678e-02],\n",
       "                        [-6.3286e-02, -3.8771e-02, -6.3986e-02, -5.3095e-02, -8.8987e-02],\n",
       "                        [-8.7313e-02, -1.5977e-01, -8.4504e-02, -1.0355e-01, -8.9598e-02],\n",
       "                        [ 8.2507e-02, -6.0590e-03, -5.2453e-02, -8.7307e-02, -3.3037e-02]],\n",
       "              \n",
       "                       [[-2.8666e-02, -9.3954e-02, -8.5774e-02, -8.2117e-02, -9.4160e-03],\n",
       "                        [-8.9618e-03, -9.0890e-02, -1.8154e-01, -1.1653e-01, -1.1409e-01],\n",
       "                        [ 7.1377e-02,  6.3361e-02,  2.2358e-02,  3.5823e-02, -4.2322e-02],\n",
       "                        [-3.7008e-02, -4.0393e-02, -1.7550e-02,  2.0337e-02,  1.3405e-01],\n",
       "                        [-4.6484e-02, -3.2317e-02, -6.0936e-02, -2.6523e-02,  3.3514e-02]],\n",
       "              \n",
       "                       [[ 1.5075e-02, -3.6736e-02, -9.5341e-02, -1.0151e-01, -4.0189e-02],\n",
       "                        [-7.9120e-02, -8.8192e-02, -6.1714e-02, -1.0374e-01, -3.5433e-02],\n",
       "                        [-5.2871e-02, -1.2948e-01, -1.2655e-01, -1.4034e-01, -1.8891e-01],\n",
       "                        [ 5.8919e-03, -1.0651e-01, -1.2688e-01, -2.2819e-01, -1.4863e-01],\n",
       "                        [ 7.7501e-03, -6.4342e-02, -2.1431e-01, -1.7265e-01, -1.2690e-01]],\n",
       "              \n",
       "                       ...,\n",
       "              \n",
       "                       [[ 1.0154e-01,  1.0719e-01,  2.9489e-02,  2.3033e-02, -6.7854e-02],\n",
       "                        [ 5.0176e-02,  2.0775e-01,  1.3193e-02, -1.6561e-02,  4.9600e-02],\n",
       "                        [ 1.3494e-01,  1.3152e-01,  7.3683e-03,  1.5958e-02, -6.5789e-02],\n",
       "                        [ 1.1620e-01,  1.6723e-02, -6.7129e-02, -6.7960e-02, -1.2808e-01],\n",
       "                        [ 8.2097e-02,  6.3271e-02,  1.7285e-02, -1.1039e-01, -1.2051e-01]],\n",
       "              \n",
       "                       [[ 4.3437e-02, -1.0685e-01, -1.6555e-01, -1.8271e-01, -1.0005e-01],\n",
       "                        [-2.3978e-02, -9.0085e-02, -1.9144e-01, -1.3447e-01, -6.8778e-02],\n",
       "                        [-1.7406e-02,  3.9398e-02, -6.0878e-02, -5.5290e-02, -8.5146e-02],\n",
       "                        [ 5.5721e-02,  4.6764e-02, -5.9695e-02, -1.6261e-02, -9.5872e-02],\n",
       "                        [-6.1710e-02,  1.3463e-02, -1.8373e-02, -1.1464e-02,  5.1845e-04]],\n",
       "              \n",
       "                       [[-2.8945e-02, -1.2901e-01, -8.8771e-02, -4.8438e-02,  4.4262e-02],\n",
       "                        [-1.4493e-02, -6.6977e-02, -3.2576e-02, -2.0233e-02,  7.1720e-02],\n",
       "                        [-1.0793e-01, -1.2407e-01, -1.6631e-01, -6.7800e-02, -8.0583e-02],\n",
       "                        [-1.5946e-01, -5.1383e-02, -7.8519e-02, -1.0959e-01, -8.9971e-03],\n",
       "                        [-1.1946e-01, -1.0853e-01, -1.1850e-01, -3.0130e-02,  1.9909e-03]]],\n",
       "              \n",
       "              \n",
       "                      [[[ 3.8784e-02, -1.7159e-02, -1.6679e-02, -1.7661e-02,  2.3205e-02],\n",
       "                        [ 9.3175e-03, -1.1850e-02, -5.6318e-03, -1.9457e-03, -3.8391e-02],\n",
       "                        [ 5.4049e-03, -1.8027e-02, -1.5506e-02, -6.0082e-03, -3.6521e-02],\n",
       "                        [-1.3375e-02, -9.8569e-03,  2.8589e-02, -2.0464e-02, -3.5952e-02],\n",
       "                        [-5.3223e-02, -3.2620e-02, -9.6522e-03, -6.4144e-02, -1.0195e-02]],\n",
       "              \n",
       "                       [[-8.7020e-03, -4.3997e-02, -5.6520e-02, -5.7530e-02, -1.0981e-01],\n",
       "                        [ 3.8381e-02,  3.5004e-02, -3.4633e-02, -7.3730e-02, -2.4977e-02],\n",
       "                        [-4.5236e-02, -3.8552e-02, -1.0767e-01, -2.6516e-02, -2.2840e-02],\n",
       "                        [-1.2079e-01, -6.8096e-02, -1.3965e-01,  7.1302e-03, -5.7062e-02],\n",
       "                        [-7.0197e-02, -9.5540e-02, -9.0415e-02, -9.0182e-02, -1.5094e-01]],\n",
       "              \n",
       "                       [[ 9.2787e-02,  1.2274e-02, -1.2835e-02, -6.8171e-02, -1.0414e-01],\n",
       "                        [-3.8898e-02, -7.2449e-02, -4.3336e-02, -6.4397e-02, -1.1581e-01],\n",
       "                        [-1.6268e-01, -6.7828e-02, -8.9285e-02, -1.8601e-01, -7.0038e-02],\n",
       "                        [-2.4654e-01, -5.1798e-02, -1.1285e-01, -1.0868e-01, -4.9472e-02],\n",
       "                        [-3.1518e-01, -1.2784e-01, -1.2516e-01, -2.6866e-02, -3.5833e-02]],\n",
       "              \n",
       "                       ...,\n",
       "              \n",
       "                       [[-5.6174e-02, -1.1922e-02,  7.0669e-02,  3.2476e-02,  6.2645e-02],\n",
       "                        [ 3.1361e-02,  2.0191e-02,  2.8747e-03,  3.5243e-03,  8.8647e-02],\n",
       "                        [ 1.8368e-02, -3.5449e-02,  2.7748e-02,  2.0029e-02, -2.6519e-02],\n",
       "                        [-1.3892e-02,  6.1222e-02,  9.4713e-02, -6.0541e-02, -1.2383e-01],\n",
       "                        [-2.8073e-02,  6.3696e-02, -1.4202e-02, -6.8132e-02, -8.6106e-02]],\n",
       "              \n",
       "                       [[-1.0470e-01, -4.1247e-02,  1.9035e-02, -1.7196e-02, -1.4125e-02],\n",
       "                        [ 6.5729e-03, -3.4462e-02,  4.5065e-02, -2.0752e-02,  1.9597e-02],\n",
       "                        [-8.6263e-02, -4.9538e-02, -3.7007e-03, -2.6966e-02, -1.1892e-02],\n",
       "                        [-5.9989e-02, -3.5211e-02,  2.5846e-02, -8.9564e-03, -3.2181e-03],\n",
       "                        [ 2.9165e-02,  7.8749e-02,  3.1341e-02,  8.2072e-03, -2.8314e-02]],\n",
       "              \n",
       "                       [[-7.2414e-02, -6.8862e-02, -1.8644e-01, -1.6575e-01, -7.3480e-02],\n",
       "                        [ 4.4950e-04, -9.5421e-02, -1.9972e-01, -1.6213e-01, -3.8569e-02],\n",
       "                        [-6.4364e-02, -1.1093e-01, -1.2045e-01, -1.0462e-01,  2.1526e-02],\n",
       "                        [-1.3293e-01, -1.8497e-01, -1.5268e-01,  1.0191e-02,  2.2623e-02],\n",
       "                        [-2.7220e-02, -1.1976e-01, -7.1152e-02,  2.6927e-02, -1.6143e-02]]],\n",
       "              \n",
       "              \n",
       "                      [[[-5.0713e-03, -2.7086e-02,  4.7077e-02,  4.0772e-02,  4.7793e-02],\n",
       "                        [-5.3742e-02, -6.8652e-02, -1.8992e-02,  2.4628e-02, -5.5620e-02],\n",
       "                        [-3.3335e-02, -4.7968e-02, -5.5043e-02, -5.1246e-02, -5.8202e-02],\n",
       "                        [ 4.4993e-02,  2.9155e-03,  2.8336e-02,  3.3676e-02,  8.1533e-02],\n",
       "                        [ 1.8332e-03, -5.0921e-02, -6.2302e-02, -3.1842e-02,  5.1138e-02]],\n",
       "              \n",
       "                       [[ 1.5085e-01,  1.9754e-01,  1.6703e-01,  1.9779e-01,  7.3357e-03],\n",
       "                        [ 5.7864e-02,  2.5578e-01,  1.4767e-01,  9.1748e-02, -2.2188e-01],\n",
       "                        [ 9.4560e-02,  1.8018e-01,  9.6606e-02, -9.4151e-02, -2.5976e-01],\n",
       "                        [ 1.4521e-02,  3.8960e-02, -4.3572e-03, -5.8693e-02, -1.2658e-01],\n",
       "                        [-1.1628e-01, -1.4115e-01, -4.5240e-02,  1.7302e-02, -1.0702e-01]],\n",
       "              \n",
       "                       [[-5.0249e-02, -1.7947e-02, -3.2830e-02,  3.2904e-02,  3.8701e-02],\n",
       "                        [-1.1438e-01, -1.3776e-01, -1.5369e-01, -2.8974e-02, -8.6350e-02],\n",
       "                        [-1.2977e-01, -2.7687e-01, -1.9022e-01,  6.5736e-03, -1.0465e-01],\n",
       "                        [-8.5229e-02, -2.7134e-01, -7.6013e-02, -2.3528e-02, -5.7350e-02],\n",
       "                        [ 1.2845e-02, -1.4120e-01, -6.8853e-02, -8.8269e-03,  1.0369e-02]],\n",
       "              \n",
       "                       ...,\n",
       "              \n",
       "                       [[ 1.2247e-01,  8.4758e-02,  1.0514e-01,  1.3757e-01,  1.7317e-01],\n",
       "                        [ 1.9785e-01,  1.4462e-01,  2.0260e-01,  1.5246e-01,  1.1009e-01],\n",
       "                        [-5.3760e-02,  1.2442e-01,  1.1594e-01,  1.0168e-01,  5.7123e-02],\n",
       "                        [-6.6542e-02,  6.7361e-02,  1.1626e-01,  8.0470e-02,  3.6206e-02],\n",
       "                        [-9.6954e-02, -4.3865e-03,  2.7561e-02,  2.0707e-02,  3.9511e-02]],\n",
       "              \n",
       "                       [[ 2.8131e-02, -8.6206e-02,  9.7250e-03, -7.9504e-03, -4.4083e-02],\n",
       "                        [ 3.1582e-02,  8.8881e-03, -1.0414e-02, -2.2798e-02, -6.0522e-02],\n",
       "                        [ 4.6831e-02, -7.2441e-02, -7.6296e-02, -1.0037e-01, -3.7408e-02],\n",
       "                        [ 5.7054e-02, -9.9163e-02, -1.5225e-01, -7.9027e-02, -9.0482e-04],\n",
       "                        [ 4.6306e-02, -1.3592e-02, -7.3181e-02, -1.2194e-01, -2.9303e-02]],\n",
       "              \n",
       "                       [[ 5.0660e-02,  1.4493e-01,  1.3299e-01,  6.5902e-02,  1.2939e-02],\n",
       "                        [ 3.3525e-02, -5.2512e-02, -4.4406e-02, -1.1366e-01, -8.3343e-02],\n",
       "                        [-5.5322e-02, -6.2110e-03, -4.6375e-02,  1.9331e-02,  7.2760e-02],\n",
       "                        [-1.1600e-01, -3.0172e-02, -7.2853e-02,  6.5794e-02,  4.7621e-02],\n",
       "                        [-9.8225e-02, -7.6793e-02,  5.2412e-02,  1.3373e-01,  1.1780e-01]]],\n",
       "              \n",
       "              \n",
       "                      ...,\n",
       "              \n",
       "              \n",
       "                      [[[ 6.1021e-02, -2.5259e-02, -3.5837e-03, -7.4266e-03,  3.6851e-02],\n",
       "                        [ 3.5244e-02,  2.9714e-02,  4.7432e-02,  1.9524e-02,  2.0584e-02],\n",
       "                        [ 7.6005e-02,  8.0835e-02,  7.2380e-02,  2.1823e-02, -1.3317e-02],\n",
       "                        [ 1.1038e-01,  9.8064e-02,  6.5480e-02,  1.6033e-02, -1.1173e-02],\n",
       "                        [-4.5285e-02, -6.1098e-02, -1.5142e-02, -5.2537e-02,  4.4295e-02]],\n",
       "              \n",
       "                       [[-1.1266e-01, -2.0012e-01, -1.5026e-01, -1.0437e-01,  5.7126e-02],\n",
       "                        [-2.9419e-02, -4.8483e-02, -7.7858e-02, -8.1752e-02, -2.6420e-02],\n",
       "                        [-3.8873e-03, -3.8649e-02, -4.4410e-02, -6.6370e-03, -2.0414e-03],\n",
       "                        [-7.4123e-02, -1.0348e-01, -2.1606e-02, -1.1348e-01,  8.5390e-03],\n",
       "                        [-1.0300e-01,  6.1923e-02,  6.2417e-02, -2.3462e-02, -1.0473e-01]],\n",
       "              \n",
       "                       [[ 3.0226e-02, -4.9160e-02, -1.3368e-01, -1.2411e-01, -4.1404e-02],\n",
       "                        [ 3.0345e-02, -9.4125e-03, -8.8589e-02, -6.5988e-02, -3.6124e-02],\n",
       "                        [ 1.1334e-03, -2.3647e-02, -1.0424e-01, -5.8282e-02, -3.8390e-02],\n",
       "                        [-7.3007e-02, -6.0294e-02, -7.2369e-02, -6.6087e-03, -5.6484e-02],\n",
       "                        [-1.5266e-01, -1.6981e-01, -1.1842e-01, -7.2903e-02, -5.8950e-02]],\n",
       "              \n",
       "                       ...,\n",
       "              \n",
       "                       [[-8.9472e-02, -9.7410e-02, -1.4889e-01, -7.4347e-02, -1.1334e-01],\n",
       "                        [-9.3892e-02, -9.5971e-02, -3.1344e-02, -1.3619e-01, -7.6938e-02],\n",
       "                        [-7.1754e-02,  1.6923e-01,  8.2022e-02,  8.2433e-02, -6.3946e-02],\n",
       "                        [-7.8039e-02,  4.0015e-02,  2.1084e-01,  1.0061e-01,  1.0585e-01],\n",
       "                        [ 1.4065e-01,  1.6490e-01,  1.2152e-01,  9.1854e-02,  5.6304e-02]],\n",
       "              \n",
       "                       [[-1.6928e-02,  2.9700e-02,  7.0579e-02,  1.3891e-02,  3.1070e-02],\n",
       "                        [-1.8652e-02, -3.0861e-02,  2.9453e-02,  8.8299e-03,  2.3834e-02],\n",
       "                        [ 1.3800e-01,  1.7195e-01,  1.9254e-01,  1.3307e-01,  7.4856e-02],\n",
       "                        [ 6.8019e-02,  9.6341e-02,  1.0402e-01,  1.2604e-01,  7.9763e-02],\n",
       "                        [ 8.8049e-02,  1.3890e-01,  1.0188e-01,  1.1402e-01,  4.9100e-02]],\n",
       "              \n",
       "                       [[ 1.0017e-01,  1.3830e-02,  4.4488e-02,  6.9997e-02,  7.5999e-02],\n",
       "                        [ 7.0170e-02, -2.8110e-02, -5.6926e-02,  4.5617e-03,  8.2334e-02],\n",
       "                        [ 2.8247e-02,  2.0232e-02, -4.5667e-02,  3.1546e-03,  3.9741e-02],\n",
       "                        [-7.3391e-02, -1.1430e-02, -6.8476e-02, -9.3227e-02, -1.2070e-02],\n",
       "                        [-9.0494e-02, -1.0830e-01, -6.9451e-02, -7.2840e-02, -8.4370e-02]]],\n",
       "              \n",
       "              \n",
       "                      [[[-1.6040e-01, -1.6835e-01, -2.1984e-02,  1.4009e-02, -1.2785e-02],\n",
       "                        [-7.3756e-02, -1.1328e-01, -1.1815e-01, -9.7552e-02, -4.8193e-02],\n",
       "                        [ 7.5753e-02, -1.0234e-02, -4.5129e-02, -1.0364e-01, -1.0640e-01],\n",
       "                        [ 9.4178e-02,  8.1159e-02,  4.3239e-02,  3.4559e-02, -1.1687e-01],\n",
       "                        [ 8.4601e-02,  7.5829e-03,  4.1134e-02, -7.7266e-02, -7.8042e-02]],\n",
       "              \n",
       "                       [[-2.2754e-02,  1.4907e-02,  1.3462e-01,  1.5195e-01, -7.9061e-02],\n",
       "                        [-1.4675e-01, -1.4815e-01, -4.3474e-02, -3.0389e-02, -7.5070e-02],\n",
       "                        [-1.4070e-02,  7.7423e-03,  2.6811e-02,  5.1232e-02, -1.0854e-01],\n",
       "                        [ 4.3357e-02,  6.0421e-02,  2.4729e-02,  3.2437e-02,  6.3368e-03],\n",
       "                        [-3.3549e-02, -2.5006e-02, -5.2163e-02, -6.7227e-02, -8.3706e-02]],\n",
       "              \n",
       "                       [[-6.5750e-02, -7.5167e-02,  2.8478e-02, -7.7474e-03, -4.3500e-02],\n",
       "                        [ 4.1328e-02, -1.4337e-02, -1.6690e-02, -3.3526e-02, -1.3711e-02],\n",
       "                        [ 9.0064e-02,  2.6462e-02,  1.0311e-02,  4.0719e-02,  9.5893e-03],\n",
       "                        [ 1.0956e-01,  5.9671e-02,  1.0899e-01,  5.2308e-02,  1.6333e-03],\n",
       "                        [ 1.5723e-01,  1.3570e-01,  1.5905e-01,  6.6357e-02,  1.5806e-02]],\n",
       "              \n",
       "                       ...,\n",
       "              \n",
       "                       [[ 1.5620e-01,  1.1481e-01,  1.4520e-01,  1.4392e-01,  1.1767e-01],\n",
       "                        [-1.2020e-01, -1.4219e-01,  3.1900e-02,  2.3372e-02,  8.6307e-03],\n",
       "                        [-3.2381e-01, -1.0114e-01, -3.4073e-02,  3.1724e-02, -9.0183e-02],\n",
       "                        [-2.3010e-01, -2.9022e-01, -1.8889e-01, -2.8980e-01, -1.8400e-02],\n",
       "                        [ 2.0744e-02, -3.5929e-02, -2.7880e-02, -2.4000e-01, -2.4613e-01]],\n",
       "              \n",
       "                       [[-2.7234e-03,  7.4789e-02,  2.3542e-02, -3.8186e-02, -8.8408e-02],\n",
       "                        [ 7.9655e-02, -6.2062e-03,  1.1713e-01, -4.8594e-02, -1.0031e-02],\n",
       "                        [ 2.3886e-01,  9.3731e-02,  8.7985e-02, -2.5882e-02, -1.0467e-01],\n",
       "                        [-4.1936e-02,  4.7307e-02, -6.1575e-02,  1.8494e-02, -6.7344e-02],\n",
       "                        [-2.5672e-02, -1.2920e-01,  5.6671e-02, -1.4168e-01, -2.2142e-02]],\n",
       "              \n",
       "                       [[-4.6803e-02,  5.8722e-02,  6.0957e-02,  4.7041e-02,  9.7786e-02],\n",
       "                        [-9.6403e-03, -4.7676e-02,  7.3974e-02, -4.0673e-02, -1.2516e-01],\n",
       "                        [ 4.3179e-02,  2.3864e-02, -8.6029e-02, -1.2349e-01, -1.4227e-01],\n",
       "                        [ 2.7349e-02,  9.6344e-03, -3.5160e-02, -1.5319e-01, -1.1183e-01],\n",
       "                        [ 1.7086e-01,  1.7412e-01,  8.8962e-02,  1.0677e-01,  3.0340e-02]]],\n",
       "              \n",
       "              \n",
       "                      [[[-1.0968e-01, -8.0773e-02, -2.6041e-02, -9.5062e-03, -1.3551e-02],\n",
       "                        [-1.0947e-02, -5.4951e-02, -5.1220e-02, -1.8094e-03, -5.1703e-02],\n",
       "                        [ 2.1269e-02, -2.9655e-02, -5.9990e-02, -2.7332e-02, -3.1025e-02],\n",
       "                        [-3.6987e-02, -8.1547e-02, -5.9998e-02, -2.7795e-02, -1.3307e-02],\n",
       "                        [-6.9865e-02, -7.7284e-02, -3.9767e-02, -1.8610e-02,  6.9841e-02]],\n",
       "              \n",
       "                       [[ 1.1011e-01,  1.1793e-01,  9.6461e-05, -3.0485e-02, -9.4295e-02],\n",
       "                        [ 1.7613e-02,  3.2470e-02,  3.1956e-02,  2.8297e-02,  4.4111e-02],\n",
       "                        [-5.7142e-02,  1.9142e-02,  1.4255e-02,  4.0742e-02,  3.9422e-02],\n",
       "                        [-2.9625e-02,  1.8682e-02, -4.6023e-04,  6.8040e-02,  1.4281e-01],\n",
       "                        [-2.6055e-02, -4.7846e-03,  6.1665e-04,  7.2598e-02,  9.0462e-02]],\n",
       "              \n",
       "                       [[ 3.0419e-03,  1.7743e-02,  6.1225e-02, -5.4247e-02,  3.0757e-02],\n",
       "                        [-7.7379e-03,  4.7405e-02, -6.8313e-02, -3.5289e-02,  8.8805e-02],\n",
       "                        [-7.4321e-02, -1.6360e-01, -1.2147e-01,  7.1017e-02,  1.0223e-01],\n",
       "                        [-2.2687e-01, -2.0471e-01, -1.6074e-01,  2.8867e-02,  1.1748e-01],\n",
       "                        [-2.7578e-01, -2.1678e-01, -2.8277e-01,  6.8376e-02,  1.7774e-01]],\n",
       "              \n",
       "                       ...,\n",
       "              \n",
       "                       [[-2.1518e-02, -6.4337e-02, -7.3348e-02,  1.4111e-02, -6.6756e-02],\n",
       "                        [-3.7107e-03,  1.1014e-02, -3.9626e-02, -8.5288e-02, -1.3007e-01],\n",
       "                        [-5.8312e-02,  9.4270e-03, -6.6360e-02, -1.4968e-01, -8.9252e-02],\n",
       "                        [ 6.6277e-02, -7.1318e-02, -9.9410e-02, -6.2850e-02, -4.4026e-02],\n",
       "                        [ 6.3814e-02,  4.7144e-02, -1.4485e-01,  6.5476e-04,  4.4085e-02]],\n",
       "              \n",
       "                       [[-1.0641e-02, -3.8018e-02, -9.2789e-03, -3.7468e-02, -9.2129e-03],\n",
       "                        [-4.6458e-02, -5.5948e-02, -3.5677e-02, -6.8393e-02, -6.7533e-02],\n",
       "                        [-7.5922e-02, -7.6826e-02, -3.2178e-02,  5.8342e-03, -4.9369e-02],\n",
       "                        [-4.5613e-02, -6.5254e-03,  1.0163e-02, -6.3427e-05, -8.3516e-02],\n",
       "                        [-3.5425e-02,  1.9029e-02,  4.5352e-02, -3.7668e-02, -2.4884e-02]],\n",
       "              \n",
       "                       [[-5.6645e-02, -1.2701e-01, -1.2840e-01, -8.7083e-02, -5.5467e-02],\n",
       "                        [-6.3419e-02, -5.9365e-02, -7.4305e-02,  3.9932e-02, -7.0842e-03],\n",
       "                        [-1.1596e-01, -6.9956e-02, -8.5311e-02,  1.3442e-01, -9.1089e-03],\n",
       "                        [-1.5651e-01, -1.4426e-01, -4.3243e-02,  1.3900e-01,  3.7124e-02],\n",
       "                        [-1.7246e-01, -2.1287e-01, -1.3375e-02,  1.1220e-01,  9.3820e-03]]]],\n",
       "                     device='cuda:0')),\n",
       "             ('2.bias',\n",
       "              tensor([ 0.0623, -0.0138, -0.0431,  0.0717,  0.0074,  0.0036, -0.0486, -0.0728,\n",
       "                      -0.0258, -0.0382,  0.0307, -0.0074, -0.0294,  0.0005, -0.0367, -0.0399,\n",
       "                      -0.0509, -0.0439,  0.0158,  0.0183, -0.0455,  0.0092, -0.0022, -0.0132,\n",
       "                      -0.0521,  0.0099,  0.0158,  0.0338,  0.0560,  0.0533,  0.0518,  0.0018,\n",
       "                       0.0166, -0.0293, -0.0629,  0.0081,  0.0655,  0.0074,  0.0562, -0.0298,\n",
       "                       0.0138,  0.0096, -0.0570, -0.0559,  0.0359,  0.0358, -0.0538,  0.0074,\n",
       "                      -0.0947, -0.0731, -0.0007, -0.0355, -0.0258, -0.0300, -0.0387,  0.0187,\n",
       "                       0.0010,  0.0239, -0.0268,  0.0236,  0.0291,  0.0851,  0.0136,  0.0104],\n",
       "                     device='cuda:0')),\n",
       "             ('6.weight',\n",
       "              tensor([[-0.0051, -0.0143, -0.0123,  ...,  0.0062,  0.0155,  0.0084],\n",
       "                      [ 0.0758,  0.0558,  0.0337,  ...,  0.0645,  0.0384,  0.0504],\n",
       "                      [ 0.0562, -0.0119,  0.0377,  ...,  0.0541,  0.0480,  0.0321],\n",
       "                      ...,\n",
       "                      [-0.0039, -0.0135, -0.0131,  ...,  0.0064,  0.0032, -0.0034],\n",
       "                      [ 0.0660,  0.0534,  0.0122,  ...,  0.1090,  0.0600, -0.0156],\n",
       "                      [-0.0085,  0.0480,  0.0378,  ..., -0.0444,  0.1390, -0.0027]],\n",
       "                     device='cuda:0')),\n",
       "             ('6.bias',\n",
       "              tensor([-0.0014, -0.0453, -0.0816, -0.0803, -0.0146, -0.0014, -0.0333, -0.0419,\n",
       "                       0.0157, -0.0154, -0.0474, -0.0065, -0.0074,  0.0472, -0.0597, -0.0776,\n",
       "                      -0.0414, -0.0163, -0.0849, -0.0133, -0.0542, -0.0647, -0.0356, -0.0218,\n",
       "                      -0.0430, -0.0078, -0.0226, -0.0138, -0.0046, -0.0903, -0.0147, -0.0101,\n",
       "                      -0.0428, -0.0514, -0.0544,  0.0007, -0.0695, -0.0708, -0.0145, -0.0764,\n",
       "                      -0.0301, -0.0505, -0.0098,  0.0046, -0.0642, -0.0086, -0.0631, -0.0495,\n",
       "                      -0.0336, -0.0351, -0.0643, -0.0126, -0.0001, -0.0396, -0.0730, -0.0088,\n",
       "                      -0.0067, -0.0721, -0.0022, -0.0121, -0.0091, -0.0295, -0.0333, -0.0284,\n",
       "                      -0.0304, -0.0474, -0.0317, -0.1108, -0.0718, -0.0064, -0.0359, -0.0388,\n",
       "                      -0.0891, -0.0104, -0.0055, -0.0805, -0.0818, -0.0289, -0.0143, -0.0480,\n",
       "                      -0.0349, -0.0147, -0.0184, -0.0034, -0.0291, -0.0316, -0.0103, -0.0457,\n",
       "                      -0.0074,  0.0091, -0.0574, -0.0437, -0.0470,  0.0002, -0.0415, -0.0114,\n",
       "                      -0.0950, -0.0433, -0.0952,  0.0080, -0.0718, -0.0459,  0.0007, -0.0370,\n",
       "                      -0.0246, -0.0646, -0.0425, -0.0301, -0.0482, -0.0066, -0.0339, -0.0969,\n",
       "                      -0.0441, -0.0063, -0.0547, -0.0095, -0.0016, -0.0081, -0.0418, -0.0742,\n",
       "                      -0.0472,  0.0375, -0.0062, -0.0910,  0.0049, -0.0107, -0.0166, -0.0296],\n",
       "                     device='cuda:0')),\n",
       "             ('9.weight',\n",
       "              tensor([[-0.0570,  0.0814,  0.0678,  ...,  0.0221,  0.0942,  0.1134],\n",
       "                      [-0.0053, -0.2333, -0.0992,  ...,  0.0460, -0.0614, -0.1388],\n",
       "                      [ 0.0391, -0.1874,  0.0639,  ..., -0.0285, -0.2580,  0.0910],\n",
       "                      ...,\n",
       "                      [ 0.0088, -0.0616, -0.1780,  ...,  0.0426,  0.1358, -0.0795],\n",
       "                      [-0.0260, -0.0361, -0.1411,  ...,  0.0440, -0.1015,  0.1038],\n",
       "                      [-0.0238, -0.0388,  0.0782,  ...,  0.0316, -0.1253, -0.0347]],\n",
       "                     device='cuda:0')),\n",
       "             ('9.bias',\n",
       "              tensor([-0.0040,  0.0323, -0.0118,  0.0250, -0.0834, -0.1122, -0.1543, -0.0170,\n",
       "                       0.0105,  0.1126], device='cuda:0'))])"
      ]
     },
     "execution_count": 124,
     "metadata": {},
     "output_type": "execute_result"
    }
   ],
   "source": [
    "model.state_dict()"
   ]
  },
  {
   "cell_type": "code",
   "execution_count": 18,
   "id": "mineral-glance",
   "metadata": {},
   "outputs": [],
   "source": [
    "torch.save(model2, 'saved_model/minst_model_class.pth')\n",
    "torch.save(model2.state_dict(), 'saved_model/mnist_model_class_weights.pth')"
   ]
  },
  {
   "cell_type": "code",
   "execution_count": null,
   "id": "advisory-prisoner",
   "metadata": {},
   "outputs": [],
   "source": []
  }
 ],
 "metadata": {
  "kernelspec": {
   "display_name": "Python 3",
   "language": "python",
   "name": "python3"
  },
  "language_info": {
   "codemirror_mode": {
    "name": "ipython",
    "version": 3
   },
   "file_extension": ".py",
   "mimetype": "text/x-python",
   "name": "python",
   "nbconvert_exporter": "python",
   "pygments_lexer": "ipython3",
   "version": "3.8.5"
  }
 },
 "nbformat": 4,
 "nbformat_minor": 5
}
